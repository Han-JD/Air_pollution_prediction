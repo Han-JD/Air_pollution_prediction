{
 "cells": [
  {
   "cell_type": "code",
   "execution_count": 4,
   "metadata": {},
   "outputs": [],
   "source": [
    "import os\n",
    "from sklearn.preprocessing import LabelEncoder\n",
    "from sklearn.preprocessing import StandardScaler\n",
    "\n",
    "import numpy as np\n",
    "import pandas as pd\n",
    "from dateutil.parser import parse\n",
    "from datetime import timedelta\n",
    "import matplotlib.pyplot as plt"
   ]
  },
  {
   "cell_type": "code",
   "execution_count": 5,
   "metadata": {},
   "outputs": [],
   "source": [
    "inputpath = './input/'\n",
    "savepath= './save/'\n",
    "saved_kor_csv_path = './save/Kor_csv_full/'\n",
    "saved_chn_csv_path = './save/Chn_csv_full/'\n",
    "korea_path = inputpath + 'from_AirKorea/'\n",
    "china_path = inputpath + 'China_air/'\n",
    "cities_path = inputpath + 'five_cities/'\n",
    "\n",
    "file_ext = '.csv'"
   ]
  },
  {
   "cell_type": "code",
   "execution_count": 6,
   "metadata": {},
   "outputs": [],
   "source": [
    "# functions to process the time in the data\n",
    "def timeparser(time):\n",
    "    return np.datetime64(parse(time))"
   ]
  },
  {
   "cell_type": "code",
   "execution_count": 7,
   "metadata": {},
   "outputs": [
    {
     "name": "stdout",
     "output_type": "stream",
     "text": [
      "China data is loaded\n"
     ]
    }
   ],
   "source": [
    "# load data\n",
    "'''\n",
    "beijing 900\n",
    "shanghai 800km\n",
    "shenyang 550\n",
    "'''\n",
    "beijing_pm = pd.read_csv(savepath +'beijing.csv', parse_dates=['Date'], date_parser=timeparser, index_col=['Date'])\n",
    "shanghai_pm = pd.read_csv(savepath +'shanghai.csv', parse_dates=['Date'], date_parser=timeparser, index_col=['Date'])\n",
    "shenyang_pm = pd.read_csv(savepath +'Shenyang.csv', parse_dates=['Date'], date_parser=timeparser, index_col=['Date'])\n",
    "\n",
    "'''\n",
    "# medile of lend\n",
    "chengdu = pd.read_csv(savepath +'chengdu.csv' , parse_dates=['Date'], date_parser=timeparser, index_col=['Date'])\n",
    "# south area\n",
    "guangzhou = pd.read_csv(savepath +'guangzhou.csv', parse_dates=['Date'], date_parser=timeparser, index_col=['Date'])\n",
    "'''\n",
    "print('China data is loaded')\n",
    "\n",
    "'''\n",
    "eng_chn = pd.read_csv(savepath+ 'eng_chn.csv', parse_dates=['Year'], date_parser=timeparser, index_col=['Year'])\n",
    "eng_kor = pd.read_csv(savepath+ 'eng_kor.csv', parse_dates=['Year'], date_parser=timeparser, index_col=['Year'])\n",
    "print('Energy data is loaded')\n",
    "'''\n",
    "'''\n",
    "junggu = pd.read_csv(savepath + 'junggu.csv', parse_dates=['Date'], date_parser=timeparser, index_col=['Date'])\n",
    "daechi = pd.read_csv(savepath + 'daechi.csv', parse_dates=['Date'], date_parser=timeparser, index_col=['Date'])\n",
    "backyoungdo = pd.read_csv(savepath + 'backyoungdo.csv', parse_dates=['Date'], date_parser=timeparser, index_col=['Date'])\n",
    "gosan = pd.read_csv(savepath + 'gosan.csv', parse_dates=['Date'], date_parser=timeparser, index_col=['Date'])\n",
    "suckmodo = pd.read_csv(savepath + 'suckmodo.csv', parse_dates=['Date'], date_parser=timeparser, index_col=['Date'])\n",
    "duckjuckdo = pd.read_csv(savepath + 'duckjuckdo.csv', parse_dates=['Date'], date_parser=timeparser, index_col=['Date'])\n",
    "print('Korea data is loaded')\n",
    "'''\n",
    "backyoungdo = pd.read_csv(savepath + 'backyoungdo.csv', parse_dates=['Date'], date_parser=timeparser, index_col=['Date'])\n",
    "#suckmodo = pd.read_csv(savepath + 'suckmodo.csv', parse_dates=['Date'], date_parser=timeparser, index_col=['Date'])\n"
   ]
  },
  {
   "cell_type": "code",
   "execution_count": 8,
   "metadata": {},
   "outputs": [],
   "source": [
    "#china\n",
    "china = pd.DataFrame()\n",
    "beijing_pm = beijing_pm.rename(index=str, columns={'Value':'Beijing'})\n",
    "beijing_pm = beijing_pm.drop(['Site'], axis=1)\n",
    "\n",
    "shanghai_pm = shanghai_pm.rename(index=str, columns={'Value':'shanghai'})\n",
    "shanghai_pm = shanghai_pm.drop(['Site'], axis=1)\n",
    "\n",
    "shenyang_pm  = shenyang_pm.rename(index=str, columns={'Value':'shenyang'})\n",
    "shenyang_pm = shenyang_pm.drop(['Site'], axis=1)\n",
    "\n",
    "#china = pd.concat([beijing, shanghai, shenyang], axis=1, keys=['Date','Date','Date'])\n",
    "china = beijing_pm.merge(shanghai_pm, how='outer', left_index=True, right_index=True)\n",
    "china = china.merge(shenyang_pm, how='outer', left_index=True, right_index=True)"
   ]
  },
  {
   "cell_type": "code",
   "execution_count": 9,
   "metadata": {},
   "outputs": [],
   "source": [
    "def load_data():\n",
    "    temp_datasets = dict()\n",
    "    for file_name in os.listdir(cities_path):\n",
    "        dataset_name = file_name.split('PM')[0].lower()\n",
    "        dataset = pd.read_csv(cities_path+file_name,\n",
    "                              parse_dates={'dt' : ['year','month','day','hour']},\n",
    "                              date_parser = lambda x: pd.datetime.strptime(x, '%Y %m %d %H'),\n",
    "                              infer_datetime_format=True,\n",
    "                              index_col='dt',\n",
    "                              na_values=['NaN','?'])\n",
    "        temp_datasets[dataset_name] = dataset\n",
    "        \n",
    "    return temp_datasets"
   ]
  },
  {
   "cell_type": "code",
   "execution_count": 10,
   "metadata": {},
   "outputs": [],
   "source": [
    "def drop_anyna(datasets):\n",
    "    temp_datasets = dict()\n",
    "    for city, dataset in datasets.items():\n",
    "        temp_datasets[city] = dataset.dropna(axis=0, how='any')\n",
    "    return temp_datasets"
   ]
  },
  {
   "cell_type": "code",
   "execution_count": 11,
   "metadata": {},
   "outputs": [],
   "source": [
    "china_datasets = load_data()"
   ]
  },
  {
   "cell_type": "code",
   "execution_count": 12,
   "metadata": {},
   "outputs": [],
   "source": [
    "beijing = china_datasets['beijing'].copy()"
   ]
  },
  {
   "cell_type": "code",
   "execution_count": 13,
   "metadata": {},
   "outputs": [],
   "source": [
    "beijing.drop(['PM_Dongsi','PM_Dongsihuan', 'PM_Nongzhanguan', 'PM_US Post'], axis=1, inplace=True)"
   ]
  },
  {
   "cell_type": "code",
   "execution_count": 14,
   "metadata": {},
   "outputs": [],
   "source": [
    "beijing.dropna(axis=0, how='any', inplace=True)"
   ]
  },
  {
   "cell_type": "code",
   "execution_count": 15,
   "metadata": {},
   "outputs": [],
   "source": [
    "beijing['cbwd'] = LabelEncoder().fit_transform(beijing['cbwd'])"
   ]
  },
  {
   "cell_type": "code",
   "execution_count": 16,
   "metadata": {},
   "outputs": [
    {
     "name": "stdout",
     "output_type": "stream",
     "text": [
      "<class 'pandas.core.frame.DataFrame'>\n",
      "DatetimeIndex: 52584 entries, 2010-01-01 00:00:00 to 2015-12-31 23:00:00\n",
      "Data columns (total 13 columns):\n",
      "No               52584 non-null int64\n",
      "season           52584 non-null int64\n",
      "PM_Jingan        24700 non-null float64\n",
      "PM_US Post       34039 non-null float64\n",
      "PM_Xuhui         25189 non-null float64\n",
      "DEWP             52571 non-null float64\n",
      "HUMI             52571 non-null float64\n",
      "PRES             52556 non-null float64\n",
      "TEMP             52571 non-null float64\n",
      "cbwd             52572 non-null object\n",
      "Iws              52572 non-null float64\n",
      "precipitation    48575 non-null float64\n",
      "Iprec            48575 non-null float64\n",
      "dtypes: float64(10), int64(2), object(1)\n",
      "memory usage: 5.6+ MB\n"
     ]
    }
   ],
   "source": [
    "shanghai = china_datasets['shanghai'].copy()\n",
    "shanghai.info()"
   ]
  },
  {
   "cell_type": "code",
   "execution_count": 17,
   "metadata": {},
   "outputs": [
    {
     "data": {
      "text/html": [
       "<div>\n",
       "<style scoped>\n",
       "    .dataframe tbody tr th:only-of-type {\n",
       "        vertical-align: middle;\n",
       "    }\n",
       "\n",
       "    .dataframe tbody tr th {\n",
       "        vertical-align: top;\n",
       "    }\n",
       "\n",
       "    .dataframe thead th {\n",
       "        text-align: right;\n",
       "    }\n",
       "</style>\n",
       "<table border=\"1\" class=\"dataframe\">\n",
       "  <thead>\n",
       "    <tr style=\"text-align: right;\">\n",
       "      <th></th>\n",
       "      <th>No</th>\n",
       "      <th>season</th>\n",
       "      <th>DEWP</th>\n",
       "      <th>HUMI</th>\n",
       "      <th>PRES</th>\n",
       "      <th>TEMP</th>\n",
       "      <th>cbwd</th>\n",
       "      <th>Iws</th>\n",
       "      <th>precipitation</th>\n",
       "      <th>Iprec</th>\n",
       "    </tr>\n",
       "  </thead>\n",
       "  <tbody>\n",
       "    <tr>\n",
       "      <th>count</th>\n",
       "      <td>48549.000000</td>\n",
       "      <td>48549.000000</td>\n",
       "      <td>48549.000000</td>\n",
       "      <td>48549.000000</td>\n",
       "      <td>48549.000000</td>\n",
       "      <td>48549.000000</td>\n",
       "      <td>48549.000000</td>\n",
       "      <td>48549.000000</td>\n",
       "      <td>48549.000000</td>\n",
       "      <td>48549.000000</td>\n",
       "    </tr>\n",
       "    <tr>\n",
       "      <th>mean</th>\n",
       "      <td>26250.879380</td>\n",
       "      <td>2.521576</td>\n",
       "      <td>10.858638</td>\n",
       "      <td>69.094081</td>\n",
       "      <td>1016.382263</td>\n",
       "      <td>17.127747</td>\n",
       "      <td>1.252487</td>\n",
       "      <td>51.130767</td>\n",
       "      <td>0.141189</td>\n",
       "      <td>0.918812</td>\n",
       "    </tr>\n",
       "    <tr>\n",
       "      <th>std</th>\n",
       "      <td>14596.417386</td>\n",
       "      <td>1.129633</td>\n",
       "      <td>9.931942</td>\n",
       "      <td>17.712016</td>\n",
       "      <td>8.986460</td>\n",
       "      <td>9.395887</td>\n",
       "      <td>1.192060</td>\n",
       "      <td>79.788204</td>\n",
       "      <td>1.063763</td>\n",
       "      <td>6.500871</td>\n",
       "    </tr>\n",
       "    <tr>\n",
       "      <th>min</th>\n",
       "      <td>1.000000</td>\n",
       "      <td>1.000000</td>\n",
       "      <td>-21.000000</td>\n",
       "      <td>11.320000</td>\n",
       "      <td>990.000000</td>\n",
       "      <td>-5.000000</td>\n",
       "      <td>0.000000</td>\n",
       "      <td>0.000000</td>\n",
       "      <td>0.000000</td>\n",
       "      <td>0.000000</td>\n",
       "    </tr>\n",
       "    <tr>\n",
       "      <th>25%</th>\n",
       "      <td>13876.000000</td>\n",
       "      <td>1.000000</td>\n",
       "      <td>3.000000</td>\n",
       "      <td>57.250000</td>\n",
       "      <td>1009.000000</td>\n",
       "      <td>9.000000</td>\n",
       "      <td>0.000000</td>\n",
       "      <td>6.000000</td>\n",
       "      <td>0.000000</td>\n",
       "      <td>0.000000</td>\n",
       "    </tr>\n",
       "    <tr>\n",
       "      <th>50%</th>\n",
       "      <td>26205.000000</td>\n",
       "      <td>3.000000</td>\n",
       "      <td>11.000000</td>\n",
       "      <td>71.660000</td>\n",
       "      <td>1016.900000</td>\n",
       "      <td>18.000000</td>\n",
       "      <td>1.000000</td>\n",
       "      <td>21.000000</td>\n",
       "      <td>0.000000</td>\n",
       "      <td>0.000000</td>\n",
       "    </tr>\n",
       "    <tr>\n",
       "      <th>75%</th>\n",
       "      <td>38415.000000</td>\n",
       "      <td>4.000000</td>\n",
       "      <td>20.000000</td>\n",
       "      <td>83.130000</td>\n",
       "      <td>1023.000000</td>\n",
       "      <td>25.000000</td>\n",
       "      <td>2.000000</td>\n",
       "      <td>63.000000</td>\n",
       "      <td>0.000000</td>\n",
       "      <td>0.000000</td>\n",
       "    </tr>\n",
       "    <tr>\n",
       "      <th>max</th>\n",
       "      <td>52584.000000</td>\n",
       "      <td>4.000000</td>\n",
       "      <td>28.000000</td>\n",
       "      <td>100.000000</td>\n",
       "      <td>1040.000000</td>\n",
       "      <td>41.000000</td>\n",
       "      <td>4.000000</td>\n",
       "      <td>1110.000000</td>\n",
       "      <td>61.600000</td>\n",
       "      <td>226.400000</td>\n",
       "    </tr>\n",
       "  </tbody>\n",
       "</table>\n",
       "</div>"
      ],
      "text/plain": [
       "                 No        season          DEWP          HUMI          PRES  \\\n",
       "count  48549.000000  48549.000000  48549.000000  48549.000000  48549.000000   \n",
       "mean   26250.879380      2.521576     10.858638     69.094081   1016.382263   \n",
       "std    14596.417386      1.129633      9.931942     17.712016      8.986460   \n",
       "min        1.000000      1.000000    -21.000000     11.320000    990.000000   \n",
       "25%    13876.000000      1.000000      3.000000     57.250000   1009.000000   \n",
       "50%    26205.000000      3.000000     11.000000     71.660000   1016.900000   \n",
       "75%    38415.000000      4.000000     20.000000     83.130000   1023.000000   \n",
       "max    52584.000000      4.000000     28.000000    100.000000   1040.000000   \n",
       "\n",
       "               TEMP          cbwd           Iws  precipitation         Iprec  \n",
       "count  48549.000000  48549.000000  48549.000000   48549.000000  48549.000000  \n",
       "mean      17.127747      1.252487     51.130767       0.141189      0.918812  \n",
       "std        9.395887      1.192060     79.788204       1.063763      6.500871  \n",
       "min       -5.000000      0.000000      0.000000       0.000000      0.000000  \n",
       "25%        9.000000      0.000000      6.000000       0.000000      0.000000  \n",
       "50%       18.000000      1.000000     21.000000       0.000000      0.000000  \n",
       "75%       25.000000      2.000000     63.000000       0.000000      0.000000  \n",
       "max       41.000000      4.000000   1110.000000      61.600000    226.400000  "
      ]
     },
     "execution_count": 17,
     "metadata": {},
     "output_type": "execute_result"
    }
   ],
   "source": [
    "shanghai.drop(['PM_Jingan','PM_Xuhui', 'PM_US Post'], axis=1, inplace=True)\n",
    "shanghai.dropna(axis=0, how='any', inplace=True)\n",
    "shanghai['cbwd'] = LabelEncoder().fit_transform(shanghai['cbwd'])\n",
    "shanghai.describe()"
   ]
  },
  {
   "cell_type": "code",
   "execution_count": 18,
   "metadata": {},
   "outputs": [
    {
     "name": "stdout",
     "output_type": "stream",
     "text": [
      "<class 'pandas.core.frame.DataFrame'>\n",
      "DatetimeIndex: 52584 entries, 2010-01-01 00:00:00 to 2015-12-31 23:00:00\n",
      "Data columns (total 13 columns):\n",
      "No               52584 non-null int64\n",
      "season           52584 non-null int64\n",
      "PM_Taiyuanjie    24388 non-null float64\n",
      "PM_US Post       21680 non-null float64\n",
      "PM_Xiaoheyan     24627 non-null float64\n",
      "DEWP             51892 non-null float64\n",
      "HUMI             51904 non-null float64\n",
      "PRES             51892 non-null float64\n",
      "TEMP             51892 non-null float64\n",
      "cbwd             51892 non-null object\n",
      "Iws              51892 non-null float64\n",
      "precipitation    39821 non-null float64\n",
      "Iprec            39821 non-null float64\n",
      "dtypes: float64(10), int64(2), object(1)\n",
      "memory usage: 5.6+ MB\n"
     ]
    }
   ],
   "source": [
    "shenyang = china_datasets['shenyang'].copy()\n",
    "shenyang.info()"
   ]
  },
  {
   "cell_type": "code",
   "execution_count": 19,
   "metadata": {},
   "outputs": [
    {
     "data": {
      "text/html": [
       "<div>\n",
       "<style scoped>\n",
       "    .dataframe tbody tr th:only-of-type {\n",
       "        vertical-align: middle;\n",
       "    }\n",
       "\n",
       "    .dataframe tbody tr th {\n",
       "        vertical-align: top;\n",
       "    }\n",
       "\n",
       "    .dataframe thead th {\n",
       "        text-align: right;\n",
       "    }\n",
       "</style>\n",
       "<table border=\"1\" class=\"dataframe\">\n",
       "  <thead>\n",
       "    <tr style=\"text-align: right;\">\n",
       "      <th></th>\n",
       "      <th>No</th>\n",
       "      <th>season</th>\n",
       "      <th>DEWP</th>\n",
       "      <th>HUMI</th>\n",
       "      <th>PRES</th>\n",
       "      <th>TEMP</th>\n",
       "      <th>cbwd</th>\n",
       "      <th>Iws</th>\n",
       "      <th>precipitation</th>\n",
       "      <th>Iprec</th>\n",
       "    </tr>\n",
       "  </thead>\n",
       "  <tbody>\n",
       "    <tr>\n",
       "      <th>count</th>\n",
       "      <td>39597.000000</td>\n",
       "      <td>39597.000000</td>\n",
       "      <td>39597.000000</td>\n",
       "      <td>39597.000000</td>\n",
       "      <td>39597.000000</td>\n",
       "      <td>39597.000000</td>\n",
       "      <td>39597.000000</td>\n",
       "      <td>39597.000000</td>\n",
       "      <td>39597.000000</td>\n",
       "      <td>39597.000000</td>\n",
       "    </tr>\n",
       "    <tr>\n",
       "      <th>mean</th>\n",
       "      <td>30436.797308</td>\n",
       "      <td>2.386595</td>\n",
       "      <td>3.388615</td>\n",
       "      <td>63.492132</td>\n",
       "      <td>1014.589489</td>\n",
       "      <td>11.099654</td>\n",
       "      <td>2.040735</td>\n",
       "      <td>20.998076</td>\n",
       "      <td>0.083610</td>\n",
       "      <td>0.495765</td>\n",
       "    </tr>\n",
       "    <tr>\n",
       "      <th>std</th>\n",
       "      <td>13564.723323</td>\n",
       "      <td>1.050017</td>\n",
       "      <td>13.519116</td>\n",
       "      <td>22.484944</td>\n",
       "      <td>9.342221</td>\n",
       "      <td>12.966869</td>\n",
       "      <td>1.193575</td>\n",
       "      <td>34.154296</td>\n",
       "      <td>0.718312</td>\n",
       "      <td>4.363589</td>\n",
       "    </tr>\n",
       "    <tr>\n",
       "      <th>min</th>\n",
       "      <td>2156.000000</td>\n",
       "      <td>1.000000</td>\n",
       "      <td>-32.000000</td>\n",
       "      <td>7.860000</td>\n",
       "      <td>988.000000</td>\n",
       "      <td>-28.000000</td>\n",
       "      <td>0.000000</td>\n",
       "      <td>0.000000</td>\n",
       "      <td>0.000000</td>\n",
       "      <td>0.000000</td>\n",
       "    </tr>\n",
       "    <tr>\n",
       "      <th>25%</th>\n",
       "      <td>21217.000000</td>\n",
       "      <td>1.000000</td>\n",
       "      <td>-7.000000</td>\n",
       "      <td>46.210000</td>\n",
       "      <td>1007.000000</td>\n",
       "      <td>1.000000</td>\n",
       "      <td>1.000000</td>\n",
       "      <td>3.000000</td>\n",
       "      <td>0.000000</td>\n",
       "      <td>0.000000</td>\n",
       "    </tr>\n",
       "    <tr>\n",
       "      <th>50%</th>\n",
       "      <td>31315.000000</td>\n",
       "      <td>2.000000</td>\n",
       "      <td>5.000000</td>\n",
       "      <td>65.480000</td>\n",
       "      <td>1014.000000</td>\n",
       "      <td>14.000000</td>\n",
       "      <td>2.000000</td>\n",
       "      <td>9.000000</td>\n",
       "      <td>0.000000</td>\n",
       "      <td>0.000000</td>\n",
       "    </tr>\n",
       "    <tr>\n",
       "      <th>75%</th>\n",
       "      <td>41898.000000</td>\n",
       "      <td>3.000000</td>\n",
       "      <td>15.000000</td>\n",
       "      <td>83.010000</td>\n",
       "      <td>1021.000000</td>\n",
       "      <td>22.000000</td>\n",
       "      <td>3.000000</td>\n",
       "      <td>24.000000</td>\n",
       "      <td>0.000000</td>\n",
       "      <td>0.000000</td>\n",
       "    </tr>\n",
       "    <tr>\n",
       "      <th>max</th>\n",
       "      <td>52584.000000</td>\n",
       "      <td>4.000000</td>\n",
       "      <td>28.000000</td>\n",
       "      <td>100.000000</td>\n",
       "      <td>1042.000000</td>\n",
       "      <td>35.000000</td>\n",
       "      <td>4.000000</td>\n",
       "      <td>465.000000</td>\n",
       "      <td>33.100000</td>\n",
       "      <td>120.000000</td>\n",
       "    </tr>\n",
       "  </tbody>\n",
       "</table>\n",
       "</div>"
      ],
      "text/plain": [
       "                 No        season          DEWP          HUMI          PRES  \\\n",
       "count  39597.000000  39597.000000  39597.000000  39597.000000  39597.000000   \n",
       "mean   30436.797308      2.386595      3.388615     63.492132   1014.589489   \n",
       "std    13564.723323      1.050017     13.519116     22.484944      9.342221   \n",
       "min     2156.000000      1.000000    -32.000000      7.860000    988.000000   \n",
       "25%    21217.000000      1.000000     -7.000000     46.210000   1007.000000   \n",
       "50%    31315.000000      2.000000      5.000000     65.480000   1014.000000   \n",
       "75%    41898.000000      3.000000     15.000000     83.010000   1021.000000   \n",
       "max    52584.000000      4.000000     28.000000    100.000000   1042.000000   \n",
       "\n",
       "               TEMP          cbwd           Iws  precipitation         Iprec  \n",
       "count  39597.000000  39597.000000  39597.000000   39597.000000  39597.000000  \n",
       "mean      11.099654      2.040735     20.998076       0.083610      0.495765  \n",
       "std       12.966869      1.193575     34.154296       0.718312      4.363589  \n",
       "min      -28.000000      0.000000      0.000000       0.000000      0.000000  \n",
       "25%        1.000000      1.000000      3.000000       0.000000      0.000000  \n",
       "50%       14.000000      2.000000      9.000000       0.000000      0.000000  \n",
       "75%       22.000000      3.000000     24.000000       0.000000      0.000000  \n",
       "max       35.000000      4.000000    465.000000      33.100000    120.000000  "
      ]
     },
     "execution_count": 19,
     "metadata": {},
     "output_type": "execute_result"
    }
   ],
   "source": [
    "shenyang.drop(['PM_Taiyuanjie','PM_Xiaoheyan', 'PM_US Post'], axis=1, inplace=True)\n",
    "shenyang.dropna(axis=0, how='any', inplace=True)\n",
    "shenyang['cbwd'] = LabelEncoder().fit_transform(shenyang['cbwd'])\n",
    "shenyang.describe()"
   ]
  },
  {
   "cell_type": "code",
   "execution_count": 54,
   "metadata": {},
   "outputs": [
    {
     "name": "stdout",
     "output_type": "stream",
     "text": [
      "<class 'pandas.core.frame.DataFrame'>\n",
      "DatetimeIndex: 77342 entries, 2008-04-08 15:00:00 to 2017-06-30 23:00:00\n",
      "Data columns (total 33 columns):\n",
      "Beijing            75126 non-null float64\n",
      "shanghai           47052 non-null float64\n",
      "shenyang           33535 non-null float64\n",
      "No_x               51783 non-null float64\n",
      "season_x           51783 non-null float64\n",
      "DEWP_x             51783 non-null float64\n",
      "HUMI_x             51783 non-null float64\n",
      "PRES_x             51783 non-null float64\n",
      "TEMP_x             51783 non-null float64\n",
      "cbwd_x             51783 non-null float64\n",
      "Iws_x              51783 non-null float64\n",
      "precipitation_x    51783 non-null float64\n",
      "Iprec_x            51783 non-null float64\n",
      "No_y               48567 non-null float64\n",
      "season_y           48567 non-null float64\n",
      "DEWP_y             48567 non-null float64\n",
      "HUMI_y             48567 non-null float64\n",
      "PRES_y             48567 non-null float64\n",
      "TEMP_y             48567 non-null float64\n",
      "cbwd_y             48567 non-null float64\n",
      "Iws_y              48567 non-null float64\n",
      "precipitation_y    48567 non-null float64\n",
      "Iprec_y            48567 non-null float64\n",
      "No                 39612 non-null float64\n",
      "season             39612 non-null float64\n",
      "DEWP               39612 non-null float64\n",
      "HUMI               39612 non-null float64\n",
      "PRES               39612 non-null float64\n",
      "TEMP               39612 non-null float64\n",
      "cbwd               39612 non-null float64\n",
      "Iws                39612 non-null float64\n",
      "precipitation      39612 non-null float64\n",
      "Iprec              39612 non-null float64\n",
      "dtypes: float64(33)\n",
      "memory usage: 20.1 MB\n"
     ]
    }
   ],
   "source": [
    "# china = china.merge(shenyang_pm, how='outer', left_index=True, right_index=True) beijing\n",
    "china_datasets = china.merge(beijing, how='outer', left_index=True, right_index=True)\n",
    "china_datasets = china_datasets.merge(shanghai, how='outer', left_index=True, right_index=True)\n",
    "china_datasets = china_datasets.merge(shenyang, how='outer', left_index=True, right_index=True)\n",
    "china_datasets.info()"
   ]
  },
  {
   "cell_type": "code",
   "execution_count": 55,
   "metadata": {},
   "outputs": [
    {
     "name": "stdout",
     "output_type": "stream",
     "text": [
      "<class 'pandas.core.frame.DataFrame'>\n",
      "DatetimeIndex: 77342 entries, 2008-04-08 15:00:00 to 2017-06-30 23:00:00\n",
      "Data columns (total 37 columns):\n",
      "Beijing            75126 non-null float64\n",
      "shanghai           47052 non-null float64\n",
      "shenyang           33535 non-null float64\n",
      "No_x               51783 non-null float64\n",
      "season_x           51783 non-null float64\n",
      "DEWP_x             51783 non-null float64\n",
      "HUMI_x             51783 non-null float64\n",
      "PRES_x             51783 non-null float64\n",
      "TEMP_x             51783 non-null float64\n",
      "cbwd_x             51783 non-null float64\n",
      "Iws_x              51783 non-null float64\n",
      "precipitation_x    51783 non-null float64\n",
      "Iprec_x            51783 non-null float64\n",
      "No_y               48567 non-null float64\n",
      "season_y           48567 non-null float64\n",
      "DEWP_y             48567 non-null float64\n",
      "HUMI_y             48567 non-null float64\n",
      "PRES_y             48567 non-null float64\n",
      "TEMP_y             48567 non-null float64\n",
      "cbwd_y             48567 non-null float64\n",
      "Iws_y              48567 non-null float64\n",
      "precipitation_y    48567 non-null float64\n",
      "Iprec_y            48567 non-null float64\n",
      "No                 39612 non-null float64\n",
      "season             39612 non-null float64\n",
      "DEWP               39612 non-null float64\n",
      "HUMI               39612 non-null float64\n",
      "PRES               39612 non-null float64\n",
      "TEMP               39612 non-null float64\n",
      "cbwd               39612 non-null float64\n",
      "Iws                39612 non-null float64\n",
      "precipitation      39612 non-null float64\n",
      "Iprec              39612 non-null float64\n",
      "year               77342 non-null int64\n",
      "month              77342 non-null int64\n",
      "day                77342 non-null int64\n",
      "hour               77342 non-null int64\n",
      "dtypes: float64(33), int64(4)\n",
      "memory usage: 24.9 MB\n"
     ]
    }
   ],
   "source": [
    "china_datasets['year'] = china_datasets.index.year\n",
    "china_datasets['month'] = china_datasets.index.month\n",
    "china_datasets['day'] = china_datasets.index.day\n",
    "china_datasets['hour'] = china_datasets.index.hour\n",
    "china_datasets.info()"
   ]
  },
  {
   "cell_type": "code",
   "execution_count": null,
   "metadata": {},
   "outputs": [],
   "source": [
    "###### china data combine #####"
   ]
  },
  {
   "cell_type": "code",
   "execution_count": 56,
   "metadata": {},
   "outputs": [],
   "source": [
    "def normalization(df):\n",
    "    return (df-df.mean())/df.std()"
   ]
  },
  {
   "cell_type": "code",
   "execution_count": 57,
   "metadata": {},
   "outputs": [],
   "source": [
    "china_datasets = normalization(china_datasets)"
   ]
  },
  {
   "cell_type": "code",
   "execution_count": 58,
   "metadata": {},
   "outputs": [
    {
     "data": {
      "text/plain": [
       "(77342, 37)"
      ]
     },
     "execution_count": 58,
     "metadata": {},
     "output_type": "execute_result"
    }
   ],
   "source": [
    "china_datasets.shape"
   ]
  },
  {
   "cell_type": "code",
   "execution_count": 20,
   "metadata": {},
   "outputs": [],
   "source": [
    "### functions for AQI and UN define"
   ]
  },
  {
   "cell_type": "code",
   "execution_count": 30,
   "metadata": {},
   "outputs": [],
   "source": [
    "def o3_8hr_to_aqi(value):\n",
    "    if np.isnan(value):\n",
    "        level = np.NaN\n",
    "    elif value < 55:\n",
    "        level = 0        \n",
    "    elif value < 71:\n",
    "        level = 1        \n",
    "    elif value < 86:\n",
    "        level = 2    \n",
    "    elif value < 106:\n",
    "        level = 3\n",
    "    else:\n",
    "        level = 4        \n",
    "    return level"
   ]
  },
  {
   "cell_type": "code",
   "execution_count": 31,
   "metadata": {},
   "outputs": [],
   "source": [
    "def o3_1hr_to_aqi(value):\n",
    "    if np.isnan(value):\n",
    "        level = np.NaN\n",
    "    elif value < 125:\n",
    "        level = np.NaN\n",
    "    elif value < 165:\n",
    "        level = 2        \n",
    "    elif value < 205:\n",
    "        level = 3        \n",
    "    elif value < 405:\n",
    "        level = 4    \n",
    "    elif value < 505:\n",
    "        level = 5\n",
    "    else:\n",
    "        level = 6        \n",
    "    return level"
   ]
  },
  {
   "cell_type": "code",
   "execution_count": 32,
   "metadata": {},
   "outputs": [],
   "source": [
    "def pm25_24hr_to_aqi(value):\n",
    "    if np.isnan(value):\n",
    "        level = np.NaN\n",
    "    elif value < 12.1:\n",
    "        level = 0\n",
    "    elif value < 35.5:\n",
    "        level = 1        \n",
    "    elif value < 55.5:\n",
    "        level = 2        \n",
    "    elif value < 150.5:\n",
    "        level = 3    \n",
    "    elif value < 250.5:\n",
    "        level = 4\n",
    "    elif value < 350.5:\n",
    "        level = 5\n",
    "    else:\n",
    "        level = 6        \n",
    "    return level"
   ]
  },
  {
   "cell_type": "code",
   "execution_count": 33,
   "metadata": {},
   "outputs": [],
   "source": [
    "def pm10_24hr_to_aqi(value):\n",
    "    if np.isnan(value):\n",
    "        level = np.NaN\n",
    "    elif value < 55:\n",
    "        level = 0\n",
    "    elif value < 155:\n",
    "        level = 1        \n",
    "    elif value < 255:\n",
    "        level = 2        \n",
    "    elif value < 355:\n",
    "        level = 3    \n",
    "    elif value < 425:\n",
    "        level = 4\n",
    "    elif value < 505:\n",
    "        level = 5\n",
    "    else:\n",
    "        level = 6        \n",
    "    return level"
   ]
  },
  {
   "cell_type": "code",
   "execution_count": 34,
   "metadata": {},
   "outputs": [],
   "source": [
    "def co_8hr_to_aqi(value):\n",
    "    if np.isnan(value):\n",
    "        level = np.NaN\n",
    "    elif value < 4.5:\n",
    "        level = 0\n",
    "    elif value < 9.5:\n",
    "        level = 1        \n",
    "    elif value < 12.5:\n",
    "        level = 2        \n",
    "    elif value < 15.5:\n",
    "        level = 3    \n",
    "    elif value < 30.5:\n",
    "        level = 4\n",
    "    elif value < 40.5:\n",
    "        level = 5\n",
    "    else:\n",
    "        level = 6        \n",
    "    return level"
   ]
  },
  {
   "cell_type": "code",
   "execution_count": 35,
   "metadata": {},
   "outputs": [],
   "source": [
    "def so2_1hr_to_aqi(value):\n",
    "    if np.isnan(value):\n",
    "        level = np.NaN\n",
    "    elif value < 36:\n",
    "        level = 0\n",
    "    elif value < 76:\n",
    "        level = 1        \n",
    "    elif value < 186:\n",
    "        level = 2\n",
    "    elif value > 186:\n",
    "        level = 3\n",
    "    else:\n",
    "        level = np.NaN        \n",
    "    return level"
   ]
  },
  {
   "cell_type": "code",
   "execution_count": 36,
   "metadata": {},
   "outputs": [],
   "source": [
    "def so2_24hr_to_aqi(value):\n",
    "    if np.isnan(value):\n",
    "        level = np.NaN\n",
    "    elif value >= 305 and value < 605:\n",
    "        level = 4\n",
    "    elif value >= 605 and value < 805:\n",
    "        level = 5        \n",
    "    elif value >= 805:\n",
    "        level = 6        \n",
    "    else:\n",
    "        level = np.NaN        \n",
    "    return level"
   ]
  },
  {
   "cell_type": "code",
   "execution_count": 37,
   "metadata": {},
   "outputs": [],
   "source": [
    "def no2_1hr_to_aqi(value):\n",
    "    if np.isnan(value):\n",
    "        level = np.NaN\n",
    "    elif value < 54:\n",
    "        level = 0\n",
    "    elif value < 101:\n",
    "        level = 1        \n",
    "    elif value < 361:\n",
    "        level = 2\n",
    "    elif value < 650:\n",
    "        level = 3\n",
    "    elif value < 1250:\n",
    "        level = 4\n",
    "    elif value < 1650:\n",
    "        level = 5\n",
    "    elif value >= 1650:\n",
    "        level = 6\n",
    "    else:\n",
    "        level = np.NaN        \n",
    "    return level"
   ]
  },
  {
   "cell_type": "code",
   "execution_count": 38,
   "metadata": {},
   "outputs": [],
   "source": [
    "def pm10_24hr_to_WHO(value):\n",
    "    if np.isnan(value):\n",
    "        level = np.NaN\n",
    "    elif value < 50:\n",
    "        level = 0\n",
    "    elif value >= 50:\n",
    "        level = 1        \n",
    "    else:\n",
    "        level = np.NaN        \n",
    "    return level"
   ]
  },
  {
   "cell_type": "code",
   "execution_count": 39,
   "metadata": {},
   "outputs": [],
   "source": [
    "def pm10_365d_to_WHO(value):\n",
    "    if np.isnan(value):\n",
    "        level = np.NaN\n",
    "    elif value < 20:\n",
    "        level = 0\n",
    "    elif value >= 20:\n",
    "        level = 1        \n",
    "    else:\n",
    "        level = np.NaN        \n",
    "    return level"
   ]
  },
  {
   "cell_type": "code",
   "execution_count": 40,
   "metadata": {},
   "outputs": [],
   "source": [
    "def pm25_24hr_to_WHO(value):\n",
    "    if np.isnan(value):\n",
    "        level = np.NaN\n",
    "    elif value < 25:\n",
    "        level = 0\n",
    "    elif value >= 25:\n",
    "        level = 1        \n",
    "    else:\n",
    "        level = np.NaN        \n",
    "    return level"
   ]
  },
  {
   "cell_type": "code",
   "execution_count": 41,
   "metadata": {},
   "outputs": [],
   "source": [
    "def pm25_365d_to_WHO(value):\n",
    "    if np.isnan(value):\n",
    "        level = np.NaN\n",
    "    elif value < 10:\n",
    "        level = 0\n",
    "    elif value >= 10:\n",
    "        level = 1        \n",
    "    else:\n",
    "        level = np.NaN        \n",
    "    return level"
   ]
  },
  {
   "cell_type": "code",
   "execution_count": 42,
   "metadata": {},
   "outputs": [],
   "source": [
    "'''\n",
    "O3 ppm -> ppb: 1000\n",
    "SO2 ppm -> ppb: 1000\n",
    "No2 ppm -> ppb: 1000\n",
    "\n",
    "AQI\n",
    "0: Good\n",
    "1: Moderate\n",
    "2: Unhealthy for sensitive\n",
    "3: Unhealthy\n",
    "4: Very unhealthy\n",
    "5: Hazardous\n",
    "6: Vary harzardous\n",
    "\n",
    "WHO\n",
    "0: good\n",
    "1: bad\n",
    "'''\n",
    "def get_aqi_who(df):\n",
    "    df_ppm = df.copy()\n",
    "    '''\n",
    "    O3 ppm -> ppb: 1000\n",
    "    SO2 ppm -> ppb: 1000\n",
    "    No2 ppm -> ppb: 1000\n",
    "    '''\n",
    "    df_ppm.O3 = df_ppm.O3 * 1000\n",
    "    df_ppm.SO2 = df_ppm.SO2 * 1000\n",
    "    df_ppm.NO2 = df_ppm.NO2 * 1000\n",
    "    \n",
    "    df_ppm = df_ppm.drop(['Loc', '측정소명', 'code', 'Address', '망'], axis=1)\n",
    "    \n",
    "    mean_8hr = df_ppm.rolling('8H').mean()\n",
    "    mean_24hr = df_ppm.rolling('24H').mean()\n",
    "    mean_365d = df_ppm.rolling('365D').mean()\n",
    "    \n",
    "    result = pd.DataFrame()\n",
    "    \n",
    "    aqi = pd.DataFrame()    \n",
    "    aqi['8hr_o3'] = mean_8hr.O3.apply(o3_8hr_to_aqi)\n",
    "    aqi['1hr_o3'] = df_ppm.O3.apply(o3_1hr_to_aqi)\n",
    "    aqi['24hr_pm25'] = mean_24hr.PM25.apply(pm25_24hr_to_aqi)\n",
    "    aqi['24hr_pm10'] = mean_24hr.PM10.apply(pm10_24hr_to_aqi)\n",
    "    aqi['8hr_co'] = mean_8hr.CO.apply(co_8hr_to_aqi)\n",
    "    aqi['1hr_so2'] = df_ppm.SO2.apply(so2_1hr_to_aqi)\n",
    "    aqi['24hr_so2'] = mean_24hr.SO2.apply(so2_24hr_to_aqi)\n",
    "    aqi['1hr_no2'] = df_ppm.NO2.apply(no2_1hr_to_aqi)\n",
    "    aqi['aqi'] = aqi.max(axis=1)\n",
    "    result['aqi'] = aqi.max(axis=1)\n",
    "    \n",
    "    who = pd.DataFrame()\n",
    "    who['24hr_pm10_WHO'] = mean_24hr.PM10.apply(pm10_24hr_to_WHO)\n",
    "    #who['365d_pm10_WHO'] = mean_365d.PM10.apply(pm10_365d_to_WHO)\n",
    "    who['24hr_pm25_WHO'] = mean_24hr.PM25.apply(pm25_24hr_to_WHO)\n",
    "    #who['365d_pm25_WHO'] = mean_365d.PM25.apply(pm25_365d_to_WHO)\n",
    "    who['who'] = who.max(axis=1)\n",
    "\n",
    "    result['who'] = who.max(axis=1)\n",
    "    \n",
    "    return aqi, who, result"
   ]
  },
  {
   "cell_type": "code",
   "execution_count": 43,
   "metadata": {},
   "outputs": [],
   "source": [
    "## time shift\n",
    "def time_shift(df, hours):\n",
    "    df.index = df.index + timedelta(hours=hours)\n",
    "    return df"
   ]
  },
  {
   "cell_type": "code",
   "execution_count": 44,
   "metadata": {},
   "outputs": [],
   "source": [
    "def train_dev_test(df, train=0.9, test=0.1):\n",
    "    \n",
    "    train_index = int(df.shape[0] * train)\n",
    "    dev_index = int(df.shape[0] * (train-test))\n",
    "    \n",
    "    y_train_aqi = df['aqi'].copy()[:train_index].values\n",
    "    y_train_who = df['who'].copy()[:train_index].values\n",
    "    x_train = df.drop(['aqi', 'who'], axis=1)\n",
    "    x_train = x_train.values\n",
    "    x_train = x_train[:train_index, :]\n",
    "    \n",
    "    y_dev_aqi = df['aqi'].copy()[dev_index:train_index].values\n",
    "    y_dev_who = df['who'].copy()[dev_index:train_index].values\n",
    "    x_dev = df.drop(['aqi', 'who'], axis=1)\n",
    "    x_dev = x_dev.values\n",
    "    x_dev = x_dev[dev_index:train_index, :]    \n",
    "    \n",
    "    y_test_aqi = df['aqi'].values[train_index:]\n",
    "    y_test_who = df['who'].copy()[train_index:].values\n",
    "    x_test = df.drop(['aqi', 'who'], axis=1)\n",
    "    x_test = x_test.values\n",
    "    x_test = x_test[train_index:, :]\n",
    "        \n",
    "    return x_train, y_train_aqi, y_train_who, x_test, y_test_aqi, y_test_who    "
   ]
  },
  {
   "cell_type": "code",
   "execution_count": 45,
   "metadata": {},
   "outputs": [],
   "source": [
    "from sklearn import metrics\n",
    "\n",
    "from sklearn import linear_model\n",
    "from sklearn.ensemble import RandomForestClassifier\n",
    "from sklearn.linear_model import LogisticRegression\n",
    "from sklearn.linear_model import Perceptron\n",
    "from sklearn.linear_model import SGDClassifier\n",
    "from sklearn.tree import DecisionTreeClassifier\n",
    "from sklearn.neighbors import KNeighborsClassifier\n",
    "from sklearn.svm import SVC, LinearSVC\n",
    "from sklearn.naive_bayes import GaussianNB"
   ]
  },
  {
   "cell_type": "code",
   "execution_count": 46,
   "metadata": {},
   "outputs": [],
   "source": [
    "def acc_precision_recall(labels, outputs):\n",
    "    accuracy = metrics.accuracy_score(labels, outputs)\n",
    "    f1_score = metrics.f1_score(labels, outputs)\n",
    "    #precision = metrics.average_precision_score(labels, outputs)\n",
    "    \n",
    "    recall = metrics.recall_score(labels, outputs)\n",
    "    auc = metrics.roc_auc_score(labels, outputs)\n",
    "\n",
    "    print('In the test, Accuracy: {:.4f}, Precision: {:.4f}, recall: {:.4f}, AUC: {:.4f}'.format(accuracy, precision, recall, auc))"
   ]
  },
  {
   "cell_type": "code",
   "execution_count": null,
   "metadata": {},
   "outputs": [],
   "source": []
  },
  {
   "cell_type": "code",
   "execution_count": 47,
   "metadata": {},
   "outputs": [],
   "source": [
    "def models_test(X_train, Y_train, X_test, Y_test):\n",
    "    # stochastic gradient descent (SGD) learning\n",
    "    sgd = linear_model.SGDClassifier(max_iter=5, tol=None)\n",
    "    sgd.fit(X_train, Y_train)\n",
    "    Y_pred = sgd.predict(X_test)\n",
    "    f1_sgd = metrics.f1_score(Y_test, Y_pred, average='weighted')\n",
    "    \n",
    "    # Random Forest\n",
    "    random_forest = RandomForestClassifier(n_estimators=100)\n",
    "    random_forest.fit(X_train, Y_train)\n",
    "    Y_pred = random_forest.predict(X_test)\n",
    "    f1_random_forest = metrics.f1_score(Y_test, Y_pred, average='weighted')\n",
    "    \n",
    "    # Logistic Regression\n",
    "    logreg = LogisticRegression()\n",
    "    logreg.fit(X_train, Y_train)\n",
    "    Y_pred = logreg.predict(X_test)\n",
    "    f1_log = metrics.f1_score(Y_test, Y_pred, average='weighted')\n",
    "\n",
    "    # KNN\n",
    "    knn = KNeighborsClassifier(n_neighbors = 3)\n",
    "    knn.fit(X_train, Y_train)\n",
    "    Y_pred = knn.predict(X_test)\n",
    "    f1_knn = metrics.f1_score(Y_test, Y_pred, average='weighted')\n",
    "\n",
    "    # Gaussian Naive Bayes\n",
    "    gaussian = GaussianNB()\n",
    "    gaussian.fit(X_train, Y_train)\n",
    "    Y_pred = gaussian.predict(X_test)\n",
    "    f1_gaussian = metrics.f1_score(Y_test, Y_pred, average='weighted')\n",
    "\n",
    "    # Perceptron\n",
    "    perceptron = Perceptron(max_iter=5)\n",
    "    perceptron.fit(X_train, Y_train)\n",
    "    Y_pred = perceptron.predict(X_test)\n",
    "    f1_perceptron = metrics.f1_score(Y_test, Y_pred, average='weighted')\n",
    "\n",
    "    # Linear SVC\n",
    "    linear_svc = LinearSVC()\n",
    "    linear_svc.fit(X_train, Y_train)\n",
    "    Y_pred = linear_svc.predict(X_test)\n",
    "    f1_linear_svc = metrics.f1_score(Y_test, Y_pred, average='weighted')\n",
    "\n",
    "    # Decision Tree\n",
    "    decision_tree = DecisionTreeClassifier()\n",
    "    decision_tree.fit(X_train, Y_train)\n",
    "    Y_pred = decision_tree.predict(X_test)\n",
    "    f1_decision_tree = metrics.f1_score(Y_test, Y_pred, average='weighted')\n",
    "\n",
    "    results = pd.DataFrame({\n",
    "        'Model': ['Support Vector Machines', 'KNN', 'Logistic Regression', \n",
    "                  'Random Forest', 'Naive Bayes', 'Perceptron', \n",
    "                  'Stochastic Gradient Decent', \n",
    "                  'Decision Tree'],\n",
    "        'Score': [f1_linear_svc, f1_knn, f1_log, \n",
    "                  f1_random_forest, f1_gaussian, f1_perceptron, \n",
    "                  f1_sgd, f1_decision_tree]})\n",
    "    result_df = results.sort_values(by='Score', ascending=False)\n",
    "    result_df = result_df.set_index('Score')\n",
    "    result_df.head(9)\n",
    "    results = results.set_index('Model')\n",
    "    return results"
   ]
  },
  {
   "cell_type": "code",
   "execution_count": 48,
   "metadata": {},
   "outputs": [],
   "source": [
    "def time_shift_and_model_test(china, location, start, finsh):\n",
    "    time_shifting = start\n",
    "    \n",
    "    result = pd.DataFrame()\n",
    "    aqi, who, level = get_aqi_who(location)\n",
    "    level = time_shift(level, time_shifting - 1)\n",
    "    \n",
    "    while time_shifting < finsh:\n",
    "        \n",
    "        print('time shift: {}'.format(time_shifting))\n",
    "        # shifting an hour        \n",
    "        level = time_shift(level, 1)\n",
    "        \n",
    "        # merge x and y\n",
    "        data_location = china.merge(level, how='outer', left_index=True, right_index=True)\n",
    "        data_location = data_location.dropna()\n",
    "\n",
    "        #print(data_location.notna().sum())        \n",
    "        \n",
    "        \n",
    "        # make train and test\n",
    "        x_train, y_train_aqi, y_train_who, x_test, y_test_aqi, y_test_who = train_dev_test(data_location)\n",
    "        \n",
    "        # do the test in the model with WHO\n",
    "        test_result = models_test(x_train, y_train_who, x_test, y_test_who)\n",
    "        \n",
    "        # rename the result and concat it\n",
    "        tag = 'who ts_' + str(time_shifting)\n",
    "        test_result = test_result.rename(index=str, columns={'Score':tag})\n",
    "        \n",
    "        result = pd.concat([test_result, result], axis=1)\n",
    "        \n",
    "        # do the test in the model with AQI\n",
    "        test_result = models_test(x_train, y_train_aqi, x_test, y_test_aqi)\n",
    "        \n",
    "        # rename the result and concat it\n",
    "        tag = 'aqi ts_' + str(time_shifting)\n",
    "        test_result = test_result.rename(index=str, columns={'Score':tag})\n",
    "        \n",
    "        result = pd.concat([test_result, result], axis=1)\n",
    "        time_shifting += 1\n",
    "    return result"
   ]
  },
  {
   "cell_type": "code",
   "execution_count": 60,
   "metadata": {},
   "outputs": [
    {
     "name": "stdout",
     "output_type": "stream",
     "text": [
      "time shift: 2\n"
     ]
    },
    {
     "name": "stderr",
     "output_type": "stream",
     "text": [
      "C:\\Users\\woare\\Anaconda3\\lib\\site-packages\\sklearn\\metrics\\classification.py:1135: UndefinedMetricWarning: F-score is ill-defined and being set to 0.0 in labels with no predicted samples.\n",
      "  'precision', 'predicted', average, warn_for)\n",
      "C:\\Users\\woare\\Anaconda3\\lib\\site-packages\\sklearn\\metrics\\classification.py:1137: UndefinedMetricWarning: F-score is ill-defined and being set to 0.0 in labels with no true samples.\n",
      "  'recall', 'true', average, warn_for)\n",
      "C:\\Users\\woare\\Anaconda3\\lib\\site-packages\\sklearn\\metrics\\classification.py:1135: UndefinedMetricWarning: F-score is ill-defined and being set to 0.0 in labels with no predicted samples.\n",
      "  'precision', 'predicted', average, warn_for)\n",
      "C:\\Users\\woare\\Anaconda3\\lib\\site-packages\\sklearn\\metrics\\classification.py:1137: UndefinedMetricWarning: F-score is ill-defined and being set to 0.0 in labels with no true samples.\n",
      "  'recall', 'true', average, warn_for)\n"
     ]
    },
    {
     "name": "stdout",
     "output_type": "stream",
     "text": [
      "time shift: 3\n"
     ]
    },
    {
     "name": "stderr",
     "output_type": "stream",
     "text": [
      "C:\\Users\\woare\\Anaconda3\\lib\\site-packages\\sklearn\\metrics\\classification.py:1137: UndefinedMetricWarning: F-score is ill-defined and being set to 0.0 in labels with no true samples.\n",
      "  'recall', 'true', average, warn_for)\n",
      "C:\\Users\\woare\\Anaconda3\\lib\\site-packages\\sklearn\\metrics\\classification.py:1135: UndefinedMetricWarning: F-score is ill-defined and being set to 0.0 in labels with no predicted samples.\n",
      "  'precision', 'predicted', average, warn_for)\n",
      "C:\\Users\\woare\\Anaconda3\\lib\\site-packages\\sklearn\\metrics\\classification.py:1137: UndefinedMetricWarning: F-score is ill-defined and being set to 0.0 in labels with no true samples.\n",
      "  'recall', 'true', average, warn_for)\n"
     ]
    },
    {
     "name": "stdout",
     "output_type": "stream",
     "text": [
      "time shift: 4\n"
     ]
    },
    {
     "name": "stderr",
     "output_type": "stream",
     "text": [
      "C:\\Users\\woare\\Anaconda3\\lib\\site-packages\\sklearn\\metrics\\classification.py:1135: UndefinedMetricWarning: F-score is ill-defined and being set to 0.0 in labels with no predicted samples.\n",
      "  'precision', 'predicted', average, warn_for)\n",
      "C:\\Users\\woare\\Anaconda3\\lib\\site-packages\\sklearn\\metrics\\classification.py:1137: UndefinedMetricWarning: F-score is ill-defined and being set to 0.0 in labels with no true samples.\n",
      "  'recall', 'true', average, warn_for)\n",
      "C:\\Users\\woare\\Anaconda3\\lib\\site-packages\\sklearn\\metrics\\classification.py:1135: UndefinedMetricWarning: F-score is ill-defined and being set to 0.0 in labels with no predicted samples.\n",
      "  'precision', 'predicted', average, warn_for)\n",
      "C:\\Users\\woare\\Anaconda3\\lib\\site-packages\\sklearn\\metrics\\classification.py:1137: UndefinedMetricWarning: F-score is ill-defined and being set to 0.0 in labels with no true samples.\n",
      "  'recall', 'true', average, warn_for)\n"
     ]
    },
    {
     "name": "stdout",
     "output_type": "stream",
     "text": [
      "time shift: 5\n"
     ]
    },
    {
     "name": "stderr",
     "output_type": "stream",
     "text": [
      "C:\\Users\\woare\\Anaconda3\\lib\\site-packages\\sklearn\\metrics\\classification.py:1137: UndefinedMetricWarning: F-score is ill-defined and being set to 0.0 in labels with no true samples.\n",
      "  'recall', 'true', average, warn_for)\n",
      "C:\\Users\\woare\\Anaconda3\\lib\\site-packages\\sklearn\\metrics\\classification.py:1135: UndefinedMetricWarning: F-score is ill-defined and being set to 0.0 in labels with no predicted samples.\n",
      "  'precision', 'predicted', average, warn_for)\n",
      "C:\\Users\\woare\\Anaconda3\\lib\\site-packages\\sklearn\\metrics\\classification.py:1137: UndefinedMetricWarning: F-score is ill-defined and being set to 0.0 in labels with no true samples.\n",
      "  'recall', 'true', average, warn_for)\n"
     ]
    },
    {
     "name": "stdout",
     "output_type": "stream",
     "text": [
      "time shift: 6\n"
     ]
    },
    {
     "name": "stderr",
     "output_type": "stream",
     "text": [
      "C:\\Users\\woare\\Anaconda3\\lib\\site-packages\\sklearn\\metrics\\classification.py:1137: UndefinedMetricWarning: F-score is ill-defined and being set to 0.0 in labels with no true samples.\n",
      "  'recall', 'true', average, warn_for)\n",
      "C:\\Users\\woare\\Anaconda3\\lib\\site-packages\\sklearn\\metrics\\classification.py:1135: UndefinedMetricWarning: F-score is ill-defined and being set to 0.0 in labels with no predicted samples.\n",
      "  'precision', 'predicted', average, warn_for)\n",
      "C:\\Users\\woare\\Anaconda3\\lib\\site-packages\\sklearn\\metrics\\classification.py:1137: UndefinedMetricWarning: F-score is ill-defined and being set to 0.0 in labels with no true samples.\n",
      "  'recall', 'true', average, warn_for)\n"
     ]
    },
    {
     "name": "stdout",
     "output_type": "stream",
     "text": [
      "time shift: 7\n"
     ]
    },
    {
     "name": "stderr",
     "output_type": "stream",
     "text": [
      "C:\\Users\\woare\\Anaconda3\\lib\\site-packages\\sklearn\\metrics\\classification.py:1135: UndefinedMetricWarning: F-score is ill-defined and being set to 0.0 in labels with no predicted samples.\n",
      "  'precision', 'predicted', average, warn_for)\n",
      "C:\\Users\\woare\\Anaconda3\\lib\\site-packages\\sklearn\\metrics\\classification.py:1135: UndefinedMetricWarning: F-score is ill-defined and being set to 0.0 in labels with no predicted samples.\n",
      "  'precision', 'predicted', average, warn_for)\n",
      "C:\\Users\\woare\\Anaconda3\\lib\\site-packages\\sklearn\\metrics\\classification.py:1137: UndefinedMetricWarning: F-score is ill-defined and being set to 0.0 in labels with no true samples.\n",
      "  'recall', 'true', average, warn_for)\n"
     ]
    },
    {
     "name": "stdout",
     "output_type": "stream",
     "text": [
      "time shift: 8\n"
     ]
    },
    {
     "name": "stderr",
     "output_type": "stream",
     "text": [
      "C:\\Users\\woare\\Anaconda3\\lib\\site-packages\\sklearn\\metrics\\classification.py:1135: UndefinedMetricWarning: F-score is ill-defined and being set to 0.0 in labels with no predicted samples.\n",
      "  'precision', 'predicted', average, warn_for)\n",
      "C:\\Users\\woare\\Anaconda3\\lib\\site-packages\\sklearn\\metrics\\classification.py:1137: UndefinedMetricWarning: F-score is ill-defined and being set to 0.0 in labels with no true samples.\n",
      "  'recall', 'true', average, warn_for)\n"
     ]
    },
    {
     "name": "stdout",
     "output_type": "stream",
     "text": [
      "time shift: 9\n"
     ]
    },
    {
     "name": "stderr",
     "output_type": "stream",
     "text": [
      "C:\\Users\\woare\\Anaconda3\\lib\\site-packages\\sklearn\\metrics\\classification.py:1137: UndefinedMetricWarning: F-score is ill-defined and being set to 0.0 in labels with no true samples.\n",
      "  'recall', 'true', average, warn_for)\n",
      "C:\\Users\\woare\\Anaconda3\\lib\\site-packages\\sklearn\\metrics\\classification.py:1135: UndefinedMetricWarning: F-score is ill-defined and being set to 0.0 in labels with no predicted samples.\n",
      "  'precision', 'predicted', average, warn_for)\n",
      "C:\\Users\\woare\\Anaconda3\\lib\\site-packages\\sklearn\\metrics\\classification.py:1137: UndefinedMetricWarning: F-score is ill-defined and being set to 0.0 in labels with no true samples.\n",
      "  'recall', 'true', average, warn_for)\n"
     ]
    },
    {
     "name": "stdout",
     "output_type": "stream",
     "text": [
      "time shift: 10\n"
     ]
    },
    {
     "name": "stderr",
     "output_type": "stream",
     "text": [
      "C:\\Users\\woare\\Anaconda3\\lib\\site-packages\\sklearn\\metrics\\classification.py:1137: UndefinedMetricWarning: F-score is ill-defined and being set to 0.0 in labels with no true samples.\n",
      "  'recall', 'true', average, warn_for)\n",
      "C:\\Users\\woare\\Anaconda3\\lib\\site-packages\\sklearn\\metrics\\classification.py:1135: UndefinedMetricWarning: F-score is ill-defined and being set to 0.0 in labels with no predicted samples.\n",
      "  'precision', 'predicted', average, warn_for)\n",
      "C:\\Users\\woare\\Anaconda3\\lib\\site-packages\\sklearn\\metrics\\classification.py:1137: UndefinedMetricWarning: F-score is ill-defined and being set to 0.0 in labels with no true samples.\n",
      "  'recall', 'true', average, warn_for)\n"
     ]
    },
    {
     "name": "stdout",
     "output_type": "stream",
     "text": [
      "time shift: 11\n"
     ]
    },
    {
     "name": "stderr",
     "output_type": "stream",
     "text": [
      "C:\\Users\\woare\\Anaconda3\\lib\\site-packages\\sklearn\\metrics\\classification.py:1135: UndefinedMetricWarning: F-score is ill-defined and being set to 0.0 in labels with no predicted samples.\n",
      "  'precision', 'predicted', average, warn_for)\n",
      "C:\\Users\\woare\\Anaconda3\\lib\\site-packages\\sklearn\\metrics\\classification.py:1137: UndefinedMetricWarning: F-score is ill-defined and being set to 0.0 in labels with no true samples.\n",
      "  'recall', 'true', average, warn_for)\n"
     ]
    },
    {
     "name": "stdout",
     "output_type": "stream",
     "text": [
      "time shift: 12\n"
     ]
    },
    {
     "name": "stderr",
     "output_type": "stream",
     "text": [
      "C:\\Users\\woare\\Anaconda3\\lib\\site-packages\\sklearn\\metrics\\classification.py:1137: UndefinedMetricWarning: F-score is ill-defined and being set to 0.0 in labels with no true samples.\n",
      "  'recall', 'true', average, warn_for)\n",
      "C:\\Users\\woare\\Anaconda3\\lib\\site-packages\\sklearn\\metrics\\classification.py:1135: UndefinedMetricWarning: F-score is ill-defined and being set to 0.0 in labels with no predicted samples.\n",
      "  'precision', 'predicted', average, warn_for)\n",
      "C:\\Users\\woare\\Anaconda3\\lib\\site-packages\\sklearn\\metrics\\classification.py:1137: UndefinedMetricWarning: F-score is ill-defined and being set to 0.0 in labels with no true samples.\n",
      "  'recall', 'true', average, warn_for)\n"
     ]
    },
    {
     "name": "stdout",
     "output_type": "stream",
     "text": [
      "time shift: 13\n"
     ]
    },
    {
     "name": "stderr",
     "output_type": "stream",
     "text": [
      "C:\\Users\\woare\\Anaconda3\\lib\\site-packages\\sklearn\\metrics\\classification.py:1135: UndefinedMetricWarning: F-score is ill-defined and being set to 0.0 in labels with no predicted samples.\n",
      "  'precision', 'predicted', average, warn_for)\n",
      "C:\\Users\\woare\\Anaconda3\\lib\\site-packages\\sklearn\\metrics\\classification.py:1137: UndefinedMetricWarning: F-score is ill-defined and being set to 0.0 in labels with no true samples.\n",
      "  'recall', 'true', average, warn_for)\n"
     ]
    },
    {
     "name": "stdout",
     "output_type": "stream",
     "text": [
      "time shift: 14\n"
     ]
    },
    {
     "name": "stderr",
     "output_type": "stream",
     "text": [
      "C:\\Users\\woare\\Anaconda3\\lib\\site-packages\\sklearn\\metrics\\classification.py:1135: UndefinedMetricWarning: F-score is ill-defined and being set to 0.0 in labels with no predicted samples.\n",
      "  'precision', 'predicted', average, warn_for)\n",
      "C:\\Users\\woare\\Anaconda3\\lib\\site-packages\\sklearn\\metrics\\classification.py:1135: UndefinedMetricWarning: F-score is ill-defined and being set to 0.0 in labels with no predicted samples.\n",
      "  'precision', 'predicted', average, warn_for)\n",
      "C:\\Users\\woare\\Anaconda3\\lib\\site-packages\\sklearn\\metrics\\classification.py:1137: UndefinedMetricWarning: F-score is ill-defined and being set to 0.0 in labels with no true samples.\n",
      "  'recall', 'true', average, warn_for)\n"
     ]
    },
    {
     "name": "stdout",
     "output_type": "stream",
     "text": [
      "time shift: 15\n"
     ]
    },
    {
     "name": "stderr",
     "output_type": "stream",
     "text": [
      "C:\\Users\\woare\\Anaconda3\\lib\\site-packages\\sklearn\\metrics\\classification.py:1137: UndefinedMetricWarning: F-score is ill-defined and being set to 0.0 in labels with no true samples.\n",
      "  'recall', 'true', average, warn_for)\n",
      "C:\\Users\\woare\\Anaconda3\\lib\\site-packages\\sklearn\\metrics\\classification.py:1135: UndefinedMetricWarning: F-score is ill-defined and being set to 0.0 in labels with no predicted samples.\n",
      "  'precision', 'predicted', average, warn_for)\n",
      "C:\\Users\\woare\\Anaconda3\\lib\\site-packages\\sklearn\\metrics\\classification.py:1137: UndefinedMetricWarning: F-score is ill-defined and being set to 0.0 in labels with no true samples.\n",
      "  'recall', 'true', average, warn_for)\n"
     ]
    },
    {
     "name": "stdout",
     "output_type": "stream",
     "text": [
      "time shift: 16\n"
     ]
    },
    {
     "name": "stderr",
     "output_type": "stream",
     "text": [
      "C:\\Users\\woare\\Anaconda3\\lib\\site-packages\\sklearn\\metrics\\classification.py:1135: UndefinedMetricWarning: F-score is ill-defined and being set to 0.0 in labels with no predicted samples.\n",
      "  'precision', 'predicted', average, warn_for)\n",
      "C:\\Users\\woare\\Anaconda3\\lib\\site-packages\\sklearn\\metrics\\classification.py:1137: UndefinedMetricWarning: F-score is ill-defined and being set to 0.0 in labels with no true samples.\n",
      "  'recall', 'true', average, warn_for)\n"
     ]
    },
    {
     "name": "stdout",
     "output_type": "stream",
     "text": [
      "time shift: 17\n"
     ]
    },
    {
     "name": "stderr",
     "output_type": "stream",
     "text": [
      "C:\\Users\\woare\\Anaconda3\\lib\\site-packages\\sklearn\\metrics\\classification.py:1137: UndefinedMetricWarning: F-score is ill-defined and being set to 0.0 in labels with no true samples.\n",
      "  'recall', 'true', average, warn_for)\n",
      "C:\\Users\\woare\\Anaconda3\\lib\\site-packages\\sklearn\\metrics\\classification.py:1135: UndefinedMetricWarning: F-score is ill-defined and being set to 0.0 in labels with no predicted samples.\n",
      "  'precision', 'predicted', average, warn_for)\n",
      "C:\\Users\\woare\\Anaconda3\\lib\\site-packages\\sklearn\\metrics\\classification.py:1137: UndefinedMetricWarning: F-score is ill-defined and being set to 0.0 in labels with no true samples.\n",
      "  'recall', 'true', average, warn_for)\n"
     ]
    },
    {
     "name": "stdout",
     "output_type": "stream",
     "text": [
      "time shift: 18\n"
     ]
    },
    {
     "name": "stderr",
     "output_type": "stream",
     "text": [
      "C:\\Users\\woare\\Anaconda3\\lib\\site-packages\\sklearn\\metrics\\classification.py:1137: UndefinedMetricWarning: F-score is ill-defined and being set to 0.0 in labels with no true samples.\n",
      "  'recall', 'true', average, warn_for)\n",
      "C:\\Users\\woare\\Anaconda3\\lib\\site-packages\\sklearn\\metrics\\classification.py:1135: UndefinedMetricWarning: F-score is ill-defined and being set to 0.0 in labels with no predicted samples.\n",
      "  'precision', 'predicted', average, warn_for)\n",
      "C:\\Users\\woare\\Anaconda3\\lib\\site-packages\\sklearn\\metrics\\classification.py:1137: UndefinedMetricWarning: F-score is ill-defined and being set to 0.0 in labels with no true samples.\n",
      "  'recall', 'true', average, warn_for)\n"
     ]
    },
    {
     "name": "stdout",
     "output_type": "stream",
     "text": [
      "time shift: 19\n"
     ]
    },
    {
     "name": "stderr",
     "output_type": "stream",
     "text": [
      "C:\\Users\\woare\\Anaconda3\\lib\\site-packages\\sklearn\\metrics\\classification.py:1135: UndefinedMetricWarning: F-score is ill-defined and being set to 0.0 in labels with no predicted samples.\n",
      "  'precision', 'predicted', average, warn_for)\n",
      "C:\\Users\\woare\\Anaconda3\\lib\\site-packages\\sklearn\\metrics\\classification.py:1137: UndefinedMetricWarning: F-score is ill-defined and being set to 0.0 in labels with no true samples.\n",
      "  'recall', 'true', average, warn_for)\n"
     ]
    },
    {
     "name": "stdout",
     "output_type": "stream",
     "text": [
      "time shift: 20\n"
     ]
    },
    {
     "name": "stderr",
     "output_type": "stream",
     "text": [
      "C:\\Users\\woare\\Anaconda3\\lib\\site-packages\\sklearn\\metrics\\classification.py:1137: UndefinedMetricWarning: F-score is ill-defined and being set to 0.0 in labels with no true samples.\n",
      "  'recall', 'true', average, warn_for)\n",
      "C:\\Users\\woare\\Anaconda3\\lib\\site-packages\\sklearn\\metrics\\classification.py:1135: UndefinedMetricWarning: F-score is ill-defined and being set to 0.0 in labels with no predicted samples.\n",
      "  'precision', 'predicted', average, warn_for)\n",
      "C:\\Users\\woare\\Anaconda3\\lib\\site-packages\\sklearn\\metrics\\classification.py:1137: UndefinedMetricWarning: F-score is ill-defined and being set to 0.0 in labels with no true samples.\n",
      "  'recall', 'true', average, warn_for)\n"
     ]
    },
    {
     "name": "stdout",
     "output_type": "stream",
     "text": [
      "time shift: 21\n"
     ]
    },
    {
     "name": "stderr",
     "output_type": "stream",
     "text": [
      "C:\\Users\\woare\\Anaconda3\\lib\\site-packages\\sklearn\\metrics\\classification.py:1137: UndefinedMetricWarning: F-score is ill-defined and being set to 0.0 in labels with no true samples.\n",
      "  'recall', 'true', average, warn_for)\n",
      "C:\\Users\\woare\\Anaconda3\\lib\\site-packages\\sklearn\\metrics\\classification.py:1135: UndefinedMetricWarning: F-score is ill-defined and being set to 0.0 in labels with no predicted samples.\n",
      "  'precision', 'predicted', average, warn_for)\n",
      "C:\\Users\\woare\\Anaconda3\\lib\\site-packages\\sklearn\\metrics\\classification.py:1137: UndefinedMetricWarning: F-score is ill-defined and being set to 0.0 in labels with no true samples.\n",
      "  'recall', 'true', average, warn_for)\n"
     ]
    },
    {
     "name": "stdout",
     "output_type": "stream",
     "text": [
      "time shift: 22\n"
     ]
    },
    {
     "name": "stderr",
     "output_type": "stream",
     "text": [
      "C:\\Users\\woare\\Anaconda3\\lib\\site-packages\\sklearn\\metrics\\classification.py:1137: UndefinedMetricWarning: F-score is ill-defined and being set to 0.0 in labels with no true samples.\n",
      "  'recall', 'true', average, warn_for)\n",
      "C:\\Users\\woare\\Anaconda3\\lib\\site-packages\\sklearn\\metrics\\classification.py:1135: UndefinedMetricWarning: F-score is ill-defined and being set to 0.0 in labels with no predicted samples.\n",
      "  'precision', 'predicted', average, warn_for)\n",
      "C:\\Users\\woare\\Anaconda3\\lib\\site-packages\\sklearn\\metrics\\classification.py:1137: UndefinedMetricWarning: F-score is ill-defined and being set to 0.0 in labels with no true samples.\n",
      "  'recall', 'true', average, warn_for)\n"
     ]
    },
    {
     "name": "stdout",
     "output_type": "stream",
     "text": [
      "time shift: 23\n"
     ]
    },
    {
     "name": "stderr",
     "output_type": "stream",
     "text": [
      "C:\\Users\\woare\\Anaconda3\\lib\\site-packages\\sklearn\\metrics\\classification.py:1137: UndefinedMetricWarning: F-score is ill-defined and being set to 0.0 in labels with no true samples.\n",
      "  'recall', 'true', average, warn_for)\n",
      "C:\\Users\\woare\\Anaconda3\\lib\\site-packages\\sklearn\\metrics\\classification.py:1135: UndefinedMetricWarning: F-score is ill-defined and being set to 0.0 in labels with no predicted samples.\n",
      "  'precision', 'predicted', average, warn_for)\n",
      "C:\\Users\\woare\\Anaconda3\\lib\\site-packages\\sklearn\\metrics\\classification.py:1137: UndefinedMetricWarning: F-score is ill-defined and being set to 0.0 in labels with no true samples.\n",
      "  'recall', 'true', average, warn_for)\n"
     ]
    },
    {
     "name": "stdout",
     "output_type": "stream",
     "text": [
      "time shift: 24\n"
     ]
    },
    {
     "name": "stderr",
     "output_type": "stream",
     "text": [
      "C:\\Users\\woare\\Anaconda3\\lib\\site-packages\\sklearn\\metrics\\classification.py:1135: UndefinedMetricWarning: F-score is ill-defined and being set to 0.0 in labels with no predicted samples.\n",
      "  'precision', 'predicted', average, warn_for)\n",
      "C:\\Users\\woare\\Anaconda3\\lib\\site-packages\\sklearn\\metrics\\classification.py:1137: UndefinedMetricWarning: F-score is ill-defined and being set to 0.0 in labels with no true samples.\n",
      "  'recall', 'true', average, warn_for)\n",
      "C:\\Users\\woare\\Anaconda3\\lib\\site-packages\\sklearn\\metrics\\classification.py:1135: UndefinedMetricWarning: F-score is ill-defined and being set to 0.0 in labels with no predicted samples.\n",
      "  'precision', 'predicted', average, warn_for)\n",
      "C:\\Users\\woare\\Anaconda3\\lib\\site-packages\\sklearn\\metrics\\classification.py:1137: UndefinedMetricWarning: F-score is ill-defined and being set to 0.0 in labels with no true samples.\n",
      "  'recall', 'true', average, warn_for)\n"
     ]
    }
   ],
   "source": [
    "result = time_shift_and_model_test(china_datasets, location=backyoungdo, start=2, finsh=25)"
   ]
  },
  {
   "cell_type": "code",
   "execution_count": 61,
   "metadata": {},
   "outputs": [
    {
     "data": {
      "text/html": [
       "<div>\n",
       "<style scoped>\n",
       "    .dataframe tbody tr th:only-of-type {\n",
       "        vertical-align: middle;\n",
       "    }\n",
       "\n",
       "    .dataframe tbody tr th {\n",
       "        vertical-align: top;\n",
       "    }\n",
       "\n",
       "    .dataframe thead th {\n",
       "        text-align: right;\n",
       "    }\n",
       "</style>\n",
       "<table border=\"1\" class=\"dataframe\">\n",
       "  <thead>\n",
       "    <tr style=\"text-align: right;\">\n",
       "      <th></th>\n",
       "      <th>aqi ts_24</th>\n",
       "      <th>who ts_24</th>\n",
       "      <th>aqi ts_23</th>\n",
       "      <th>who ts_23</th>\n",
       "      <th>aqi ts_22</th>\n",
       "      <th>who ts_22</th>\n",
       "      <th>aqi ts_21</th>\n",
       "      <th>who ts_21</th>\n",
       "      <th>aqi ts_20</th>\n",
       "      <th>who ts_20</th>\n",
       "      <th>aqi ts_19</th>\n",
       "      <th>who ts_19</th>\n",
       "      <th>aqi ts_18</th>\n",
       "      <th>who ts_18</th>\n",
       "      <th>aqi ts_17</th>\n",
       "      <th>who ts_17</th>\n",
       "      <th>aqi ts_16</th>\n",
       "      <th>who ts_16</th>\n",
       "      <th>aqi ts_15</th>\n",
       "      <th>who ts_15</th>\n",
       "      <th>aqi ts_14</th>\n",
       "      <th>who ts_14</th>\n",
       "      <th>aqi ts_13</th>\n",
       "      <th>who ts_13</th>\n",
       "      <th>aqi ts_12</th>\n",
       "      <th>who ts_12</th>\n",
       "      <th>aqi ts_11</th>\n",
       "      <th>who ts_11</th>\n",
       "      <th>aqi ts_10</th>\n",
       "      <th>who ts_10</th>\n",
       "      <th>aqi ts_9</th>\n",
       "      <th>who ts_9</th>\n",
       "      <th>aqi ts_8</th>\n",
       "      <th>who ts_8</th>\n",
       "      <th>aqi ts_7</th>\n",
       "      <th>who ts_7</th>\n",
       "      <th>aqi ts_6</th>\n",
       "      <th>who ts_6</th>\n",
       "      <th>aqi ts_5</th>\n",
       "      <th>who ts_5</th>\n",
       "      <th>aqi ts_4</th>\n",
       "      <th>who ts_4</th>\n",
       "      <th>aqi ts_3</th>\n",
       "      <th>who ts_3</th>\n",
       "      <th>aqi ts_2</th>\n",
       "      <th>who ts_2</th>\n",
       "    </tr>\n",
       "    <tr>\n",
       "      <th>Model</th>\n",
       "      <th></th>\n",
       "      <th></th>\n",
       "      <th></th>\n",
       "      <th></th>\n",
       "      <th></th>\n",
       "      <th></th>\n",
       "      <th></th>\n",
       "      <th></th>\n",
       "      <th></th>\n",
       "      <th></th>\n",
       "      <th></th>\n",
       "      <th></th>\n",
       "      <th></th>\n",
       "      <th></th>\n",
       "      <th></th>\n",
       "      <th></th>\n",
       "      <th></th>\n",
       "      <th></th>\n",
       "      <th></th>\n",
       "      <th></th>\n",
       "      <th></th>\n",
       "      <th></th>\n",
       "      <th></th>\n",
       "      <th></th>\n",
       "      <th></th>\n",
       "      <th></th>\n",
       "      <th></th>\n",
       "      <th></th>\n",
       "      <th></th>\n",
       "      <th></th>\n",
       "      <th></th>\n",
       "      <th></th>\n",
       "      <th></th>\n",
       "      <th></th>\n",
       "      <th></th>\n",
       "      <th></th>\n",
       "      <th></th>\n",
       "      <th></th>\n",
       "      <th></th>\n",
       "      <th></th>\n",
       "      <th></th>\n",
       "      <th></th>\n",
       "      <th></th>\n",
       "      <th></th>\n",
       "      <th></th>\n",
       "      <th></th>\n",
       "    </tr>\n",
       "  </thead>\n",
       "  <tbody>\n",
       "    <tr>\n",
       "      <th>Support Vector Machines</th>\n",
       "      <td>0.647903</td>\n",
       "      <td>0.695597</td>\n",
       "      <td>0.638732</td>\n",
       "      <td>0.697683</td>\n",
       "      <td>0.629330</td>\n",
       "      <td>0.700845</td>\n",
       "      <td>0.644668</td>\n",
       "      <td>0.702427</td>\n",
       "      <td>0.645805</td>\n",
       "      <td>0.702427</td>\n",
       "      <td>0.649759</td>\n",
       "      <td>0.700561</td>\n",
       "      <td>0.656087</td>\n",
       "      <td>0.699770</td>\n",
       "      <td>0.659218</td>\n",
       "      <td>0.701352</td>\n",
       "      <td>0.654465</td>\n",
       "      <td>0.700561</td>\n",
       "      <td>0.652131</td>\n",
       "      <td>0.702651</td>\n",
       "      <td>0.651326</td>\n",
       "      <td>0.705310</td>\n",
       "      <td>0.645701</td>\n",
       "      <td>0.705310</td>\n",
       "      <td>0.644436</td>\n",
       "      <td>0.704518</td>\n",
       "      <td>0.640238</td>\n",
       "      <td>0.703443</td>\n",
       "      <td>0.648849</td>\n",
       "      <td>0.701068</td>\n",
       "      <td>0.655474</td>\n",
       "      <td>0.699487</td>\n",
       "      <td>0.658520</td>\n",
       "      <td>0.700277</td>\n",
       "      <td>0.658935</td>\n",
       "      <td>0.698696</td>\n",
       "      <td>0.655179</td>\n",
       "      <td>0.702991</td>\n",
       "      <td>0.658639</td>\n",
       "      <td>0.704099</td>\n",
       "      <td>0.663451</td>\n",
       "      <td>0.706226</td>\n",
       "      <td>0.659133</td>\n",
       "      <td>0.710185</td>\n",
       "      <td>0.662462</td>\n",
       "      <td>0.711964</td>\n",
       "    </tr>\n",
       "    <tr>\n",
       "      <th>KNN</th>\n",
       "      <td>0.591202</td>\n",
       "      <td>0.703498</td>\n",
       "      <td>0.578056</td>\n",
       "      <td>0.706594</td>\n",
       "      <td>0.580151</td>\n",
       "      <td>0.708741</td>\n",
       "      <td>0.589726</td>\n",
       "      <td>0.705826</td>\n",
       "      <td>0.592201</td>\n",
       "      <td>0.704615</td>\n",
       "      <td>0.586382</td>\n",
       "      <td>0.706172</td>\n",
       "      <td>0.575679</td>\n",
       "      <td>0.703751</td>\n",
       "      <td>0.572414</td>\n",
       "      <td>0.695964</td>\n",
       "      <td>0.576667</td>\n",
       "      <td>0.691054</td>\n",
       "      <td>0.573941</td>\n",
       "      <td>0.672842</td>\n",
       "      <td>0.571588</td>\n",
       "      <td>0.675910</td>\n",
       "      <td>0.570110</td>\n",
       "      <td>0.679432</td>\n",
       "      <td>0.569864</td>\n",
       "      <td>0.671578</td>\n",
       "      <td>0.563614</td>\n",
       "      <td>0.670758</td>\n",
       "      <td>0.571354</td>\n",
       "      <td>0.669291</td>\n",
       "      <td>0.578595</td>\n",
       "      <td>0.663927</td>\n",
       "      <td>0.576888</td>\n",
       "      <td>0.658769</td>\n",
       "      <td>0.574637</td>\n",
       "      <td>0.654957</td>\n",
       "      <td>0.566982</td>\n",
       "      <td>0.659600</td>\n",
       "      <td>0.571896</td>\n",
       "      <td>0.662067</td>\n",
       "      <td>0.579456</td>\n",
       "      <td>0.663203</td>\n",
       "      <td>0.580821</td>\n",
       "      <td>0.674211</td>\n",
       "      <td>0.581178</td>\n",
       "      <td>0.683325</td>\n",
       "    </tr>\n",
       "    <tr>\n",
       "      <th>Logistic Regression</th>\n",
       "      <td>0.650229</td>\n",
       "      <td>0.694464</td>\n",
       "      <td>0.638028</td>\n",
       "      <td>0.696264</td>\n",
       "      <td>0.632688</td>\n",
       "      <td>0.699425</td>\n",
       "      <td>0.645564</td>\n",
       "      <td>0.701007</td>\n",
       "      <td>0.653749</td>\n",
       "      <td>0.701007</td>\n",
       "      <td>0.656997</td>\n",
       "      <td>0.699425</td>\n",
       "      <td>0.656847</td>\n",
       "      <td>0.698350</td>\n",
       "      <td>0.655586</td>\n",
       "      <td>0.699932</td>\n",
       "      <td>0.652650</td>\n",
       "      <td>0.699141</td>\n",
       "      <td>0.649067</td>\n",
       "      <td>0.701799</td>\n",
       "      <td>0.652515</td>\n",
       "      <td>0.704174</td>\n",
       "      <td>0.648733</td>\n",
       "      <td>0.704174</td>\n",
       "      <td>0.646925</td>\n",
       "      <td>0.703666</td>\n",
       "      <td>0.639451</td>\n",
       "      <td>0.702875</td>\n",
       "      <td>0.644352</td>\n",
       "      <td>0.700501</td>\n",
       "      <td>0.652907</td>\n",
       "      <td>0.698919</td>\n",
       "      <td>0.657224</td>\n",
       "      <td>0.699994</td>\n",
       "      <td>0.661496</td>\n",
       "      <td>0.698413</td>\n",
       "      <td>0.656264</td>\n",
       "      <td>0.699994</td>\n",
       "      <td>0.659971</td>\n",
       "      <td>0.701410</td>\n",
       "      <td>0.660155</td>\n",
       "      <td>0.703548</td>\n",
       "      <td>0.656755</td>\n",
       "      <td>0.706158</td>\n",
       "      <td>0.659811</td>\n",
       "      <td>0.710633</td>\n",
       "    </tr>\n",
       "    <tr>\n",
       "      <th>Random Forest</th>\n",
       "      <td>0.569393</td>\n",
       "      <td>0.730073</td>\n",
       "      <td>0.576595</td>\n",
       "      <td>0.752337</td>\n",
       "      <td>0.590639</td>\n",
       "      <td>0.736922</td>\n",
       "      <td>0.614934</td>\n",
       "      <td>0.751894</td>\n",
       "      <td>0.559069</td>\n",
       "      <td>0.772142</td>\n",
       "      <td>0.557030</td>\n",
       "      <td>0.734567</td>\n",
       "      <td>0.612899</td>\n",
       "      <td>0.717426</td>\n",
       "      <td>0.558226</td>\n",
       "      <td>0.746077</td>\n",
       "      <td>0.593088</td>\n",
       "      <td>0.736542</td>\n",
       "      <td>0.610651</td>\n",
       "      <td>0.732663</td>\n",
       "      <td>0.599302</td>\n",
       "      <td>0.735745</td>\n",
       "      <td>0.623999</td>\n",
       "      <td>0.716178</td>\n",
       "      <td>0.622973</td>\n",
       "      <td>0.739829</td>\n",
       "      <td>0.643271</td>\n",
       "      <td>0.719188</td>\n",
       "      <td>0.654813</td>\n",
       "      <td>0.745555</td>\n",
       "      <td>0.636226</td>\n",
       "      <td>0.784456</td>\n",
       "      <td>0.635973</td>\n",
       "      <td>0.754438</td>\n",
       "      <td>0.664446</td>\n",
       "      <td>0.698332</td>\n",
       "      <td>0.662504</td>\n",
       "      <td>0.734898</td>\n",
       "      <td>0.659661</td>\n",
       "      <td>0.750271</td>\n",
       "      <td>0.683800</td>\n",
       "      <td>0.754964</td>\n",
       "      <td>0.672200</td>\n",
       "      <td>0.704539</td>\n",
       "      <td>0.692235</td>\n",
       "      <td>0.736234</td>\n",
       "    </tr>\n",
       "    <tr>\n",
       "      <th>Naive Bayes</th>\n",
       "      <td>0.408119</td>\n",
       "      <td>0.547209</td>\n",
       "      <td>0.414444</td>\n",
       "      <td>0.551717</td>\n",
       "      <td>0.420043</td>\n",
       "      <td>0.549475</td>\n",
       "      <td>0.422292</td>\n",
       "      <td>0.552230</td>\n",
       "      <td>0.415037</td>\n",
       "      <td>0.561872</td>\n",
       "      <td>0.423195</td>\n",
       "      <td>0.552334</td>\n",
       "      <td>0.432495</td>\n",
       "      <td>0.549608</td>\n",
       "      <td>0.442335</td>\n",
       "      <td>0.547196</td>\n",
       "      <td>0.445394</td>\n",
       "      <td>0.546145</td>\n",
       "      <td>0.413793</td>\n",
       "      <td>0.543022</td>\n",
       "      <td>0.421225</td>\n",
       "      <td>0.544620</td>\n",
       "      <td>0.435306</td>\n",
       "      <td>0.545690</td>\n",
       "      <td>0.437380</td>\n",
       "      <td>0.550412</td>\n",
       "      <td>0.435388</td>\n",
       "      <td>0.556347</td>\n",
       "      <td>0.425109</td>\n",
       "      <td>0.562038</td>\n",
       "      <td>0.393432</td>\n",
       "      <td>0.568132</td>\n",
       "      <td>0.389587</td>\n",
       "      <td>0.562938</td>\n",
       "      <td>0.384788</td>\n",
       "      <td>0.567710</td>\n",
       "      <td>0.372501</td>\n",
       "      <td>0.569270</td>\n",
       "      <td>0.350806</td>\n",
       "      <td>0.569554</td>\n",
       "      <td>0.336056</td>\n",
       "      <td>0.566853</td>\n",
       "      <td>0.323392</td>\n",
       "      <td>0.561299</td>\n",
       "      <td>0.306626</td>\n",
       "      <td>0.549039</td>\n",
       "    </tr>\n",
       "    <tr>\n",
       "      <th>Perceptron</th>\n",
       "      <td>0.457633</td>\n",
       "      <td>0.695881</td>\n",
       "      <td>0.470423</td>\n",
       "      <td>0.680494</td>\n",
       "      <td>0.547505</td>\n",
       "      <td>0.704414</td>\n",
       "      <td>0.569835</td>\n",
       "      <td>0.733830</td>\n",
       "      <td>0.519793</td>\n",
       "      <td>0.661520</td>\n",
       "      <td>0.394960</td>\n",
       "      <td>0.701071</td>\n",
       "      <td>0.589713</td>\n",
       "      <td>0.647391</td>\n",
       "      <td>0.361088</td>\n",
       "      <td>0.699435</td>\n",
       "      <td>0.594841</td>\n",
       "      <td>0.729491</td>\n",
       "      <td>0.260124</td>\n",
       "      <td>0.705904</td>\n",
       "      <td>0.583259</td>\n",
       "      <td>0.747190</td>\n",
       "      <td>0.566867</td>\n",
       "      <td>0.709677</td>\n",
       "      <td>0.468074</td>\n",
       "      <td>0.675626</td>\n",
       "      <td>0.415938</td>\n",
       "      <td>0.690562</td>\n",
       "      <td>0.523686</td>\n",
       "      <td>0.594768</td>\n",
       "      <td>0.582884</td>\n",
       "      <td>0.561159</td>\n",
       "      <td>0.611741</td>\n",
       "      <td>0.735980</td>\n",
       "      <td>0.480485</td>\n",
       "      <td>0.688780</td>\n",
       "      <td>0.565609</td>\n",
       "      <td>0.723459</td>\n",
       "      <td>0.466718</td>\n",
       "      <td>0.526658</td>\n",
       "      <td>0.561074</td>\n",
       "      <td>0.638026</td>\n",
       "      <td>0.543721</td>\n",
       "      <td>0.710545</td>\n",
       "      <td>0.633686</td>\n",
       "      <td>0.681818</td>\n",
       "    </tr>\n",
       "    <tr>\n",
       "      <th>Stochastic Gradient Decent</th>\n",
       "      <td>0.578002</td>\n",
       "      <td>0.695314</td>\n",
       "      <td>0.537592</td>\n",
       "      <td>0.702465</td>\n",
       "      <td>0.592990</td>\n",
       "      <td>0.677533</td>\n",
       "      <td>0.542500</td>\n",
       "      <td>0.702968</td>\n",
       "      <td>0.607152</td>\n",
       "      <td>0.711429</td>\n",
       "      <td>0.272750</td>\n",
       "      <td>0.739917</td>\n",
       "      <td>0.559150</td>\n",
       "      <td>0.716726</td>\n",
       "      <td>0.324501</td>\n",
       "      <td>0.734617</td>\n",
       "      <td>0.610139</td>\n",
       "      <td>0.699994</td>\n",
       "      <td>0.535234</td>\n",
       "      <td>0.694632</td>\n",
       "      <td>0.612124</td>\n",
       "      <td>0.707198</td>\n",
       "      <td>0.445919</td>\n",
       "      <td>0.698083</td>\n",
       "      <td>0.614734</td>\n",
       "      <td>0.705085</td>\n",
       "      <td>0.622453</td>\n",
       "      <td>0.710940</td>\n",
       "      <td>0.598853</td>\n",
       "      <td>0.692473</td>\n",
       "      <td>0.627172</td>\n",
       "      <td>0.713203</td>\n",
       "      <td>0.632418</td>\n",
       "      <td>0.651388</td>\n",
       "      <td>0.591439</td>\n",
       "      <td>0.717964</td>\n",
       "      <td>0.554101</td>\n",
       "      <td>0.668145</td>\n",
       "      <td>0.673463</td>\n",
       "      <td>0.694422</td>\n",
       "      <td>0.560160</td>\n",
       "      <td>0.702331</td>\n",
       "      <td>0.496099</td>\n",
       "      <td>0.592775</td>\n",
       "      <td>0.537712</td>\n",
       "      <td>0.706670</td>\n",
       "    </tr>\n",
       "    <tr>\n",
       "      <th>Decision Tree</th>\n",
       "      <td>0.516699</td>\n",
       "      <td>0.642092</td>\n",
       "      <td>0.629771</td>\n",
       "      <td>0.651560</td>\n",
       "      <td>0.621522</td>\n",
       "      <td>0.662021</td>\n",
       "      <td>0.508110</td>\n",
       "      <td>0.565979</td>\n",
       "      <td>0.592747</td>\n",
       "      <td>0.571441</td>\n",
       "      <td>0.410784</td>\n",
       "      <td>0.639898</td>\n",
       "      <td>0.412937</td>\n",
       "      <td>0.652241</td>\n",
       "      <td>0.539700</td>\n",
       "      <td>0.642759</td>\n",
       "      <td>0.567517</td>\n",
       "      <td>0.703382</td>\n",
       "      <td>0.490176</td>\n",
       "      <td>0.708863</td>\n",
       "      <td>0.340991</td>\n",
       "      <td>0.685985</td>\n",
       "      <td>0.453686</td>\n",
       "      <td>0.685977</td>\n",
       "      <td>0.503329</td>\n",
       "      <td>0.681369</td>\n",
       "      <td>0.438726</td>\n",
       "      <td>0.707923</td>\n",
       "      <td>0.497638</td>\n",
       "      <td>0.691650</td>\n",
       "      <td>0.483676</td>\n",
       "      <td>0.715425</td>\n",
       "      <td>0.443774</td>\n",
       "      <td>0.669701</td>\n",
       "      <td>0.563008</td>\n",
       "      <td>0.710771</td>\n",
       "      <td>0.547561</td>\n",
       "      <td>0.712054</td>\n",
       "      <td>0.542729</td>\n",
       "      <td>0.754046</td>\n",
       "      <td>0.577280</td>\n",
       "      <td>0.697429</td>\n",
       "      <td>0.474424</td>\n",
       "      <td>0.693452</td>\n",
       "      <td>0.591463</td>\n",
       "      <td>0.686749</td>\n",
       "    </tr>\n",
       "  </tbody>\n",
       "</table>\n",
       "</div>"
      ],
      "text/plain": [
       "                            aqi ts_24  who ts_24  aqi ts_23  who ts_23  \\\n",
       "Model                                                                    \n",
       "Support Vector Machines      0.647903   0.695597   0.638732   0.697683   \n",
       "KNN                          0.591202   0.703498   0.578056   0.706594   \n",
       "Logistic Regression          0.650229   0.694464   0.638028   0.696264   \n",
       "Random Forest                0.569393   0.730073   0.576595   0.752337   \n",
       "Naive Bayes                  0.408119   0.547209   0.414444   0.551717   \n",
       "Perceptron                   0.457633   0.695881   0.470423   0.680494   \n",
       "Stochastic Gradient Decent   0.578002   0.695314   0.537592   0.702465   \n",
       "Decision Tree                0.516699   0.642092   0.629771   0.651560   \n",
       "\n",
       "                            aqi ts_22  who ts_22  aqi ts_21  who ts_21  \\\n",
       "Model                                                                    \n",
       "Support Vector Machines      0.629330   0.700845   0.644668   0.702427   \n",
       "KNN                          0.580151   0.708741   0.589726   0.705826   \n",
       "Logistic Regression          0.632688   0.699425   0.645564   0.701007   \n",
       "Random Forest                0.590639   0.736922   0.614934   0.751894   \n",
       "Naive Bayes                  0.420043   0.549475   0.422292   0.552230   \n",
       "Perceptron                   0.547505   0.704414   0.569835   0.733830   \n",
       "Stochastic Gradient Decent   0.592990   0.677533   0.542500   0.702968   \n",
       "Decision Tree                0.621522   0.662021   0.508110   0.565979   \n",
       "\n",
       "                            aqi ts_20  who ts_20  aqi ts_19  who ts_19  \\\n",
       "Model                                                                    \n",
       "Support Vector Machines      0.645805   0.702427   0.649759   0.700561   \n",
       "KNN                          0.592201   0.704615   0.586382   0.706172   \n",
       "Logistic Regression          0.653749   0.701007   0.656997   0.699425   \n",
       "Random Forest                0.559069   0.772142   0.557030   0.734567   \n",
       "Naive Bayes                  0.415037   0.561872   0.423195   0.552334   \n",
       "Perceptron                   0.519793   0.661520   0.394960   0.701071   \n",
       "Stochastic Gradient Decent   0.607152   0.711429   0.272750   0.739917   \n",
       "Decision Tree                0.592747   0.571441   0.410784   0.639898   \n",
       "\n",
       "                            aqi ts_18  who ts_18  aqi ts_17  who ts_17  \\\n",
       "Model                                                                    \n",
       "Support Vector Machines      0.656087   0.699770   0.659218   0.701352   \n",
       "KNN                          0.575679   0.703751   0.572414   0.695964   \n",
       "Logistic Regression          0.656847   0.698350   0.655586   0.699932   \n",
       "Random Forest                0.612899   0.717426   0.558226   0.746077   \n",
       "Naive Bayes                  0.432495   0.549608   0.442335   0.547196   \n",
       "Perceptron                   0.589713   0.647391   0.361088   0.699435   \n",
       "Stochastic Gradient Decent   0.559150   0.716726   0.324501   0.734617   \n",
       "Decision Tree                0.412937   0.652241   0.539700   0.642759   \n",
       "\n",
       "                            aqi ts_16  who ts_16  aqi ts_15  who ts_15  \\\n",
       "Model                                                                    \n",
       "Support Vector Machines      0.654465   0.700561   0.652131   0.702651   \n",
       "KNN                          0.576667   0.691054   0.573941   0.672842   \n",
       "Logistic Regression          0.652650   0.699141   0.649067   0.701799   \n",
       "Random Forest                0.593088   0.736542   0.610651   0.732663   \n",
       "Naive Bayes                  0.445394   0.546145   0.413793   0.543022   \n",
       "Perceptron                   0.594841   0.729491   0.260124   0.705904   \n",
       "Stochastic Gradient Decent   0.610139   0.699994   0.535234   0.694632   \n",
       "Decision Tree                0.567517   0.703382   0.490176   0.708863   \n",
       "\n",
       "                            aqi ts_14  who ts_14  aqi ts_13  who ts_13  \\\n",
       "Model                                                                    \n",
       "Support Vector Machines      0.651326   0.705310   0.645701   0.705310   \n",
       "KNN                          0.571588   0.675910   0.570110   0.679432   \n",
       "Logistic Regression          0.652515   0.704174   0.648733   0.704174   \n",
       "Random Forest                0.599302   0.735745   0.623999   0.716178   \n",
       "Naive Bayes                  0.421225   0.544620   0.435306   0.545690   \n",
       "Perceptron                   0.583259   0.747190   0.566867   0.709677   \n",
       "Stochastic Gradient Decent   0.612124   0.707198   0.445919   0.698083   \n",
       "Decision Tree                0.340991   0.685985   0.453686   0.685977   \n",
       "\n",
       "                            aqi ts_12  who ts_12  aqi ts_11  who ts_11  \\\n",
       "Model                                                                    \n",
       "Support Vector Machines      0.644436   0.704518   0.640238   0.703443   \n",
       "KNN                          0.569864   0.671578   0.563614   0.670758   \n",
       "Logistic Regression          0.646925   0.703666   0.639451   0.702875   \n",
       "Random Forest                0.622973   0.739829   0.643271   0.719188   \n",
       "Naive Bayes                  0.437380   0.550412   0.435388   0.556347   \n",
       "Perceptron                   0.468074   0.675626   0.415938   0.690562   \n",
       "Stochastic Gradient Decent   0.614734   0.705085   0.622453   0.710940   \n",
       "Decision Tree                0.503329   0.681369   0.438726   0.707923   \n",
       "\n",
       "                            aqi ts_10  who ts_10  aqi ts_9  who ts_9  \\\n",
       "Model                                                                  \n",
       "Support Vector Machines      0.648849   0.701068  0.655474  0.699487   \n",
       "KNN                          0.571354   0.669291  0.578595  0.663927   \n",
       "Logistic Regression          0.644352   0.700501  0.652907  0.698919   \n",
       "Random Forest                0.654813   0.745555  0.636226  0.784456   \n",
       "Naive Bayes                  0.425109   0.562038  0.393432  0.568132   \n",
       "Perceptron                   0.523686   0.594768  0.582884  0.561159   \n",
       "Stochastic Gradient Decent   0.598853   0.692473  0.627172  0.713203   \n",
       "Decision Tree                0.497638   0.691650  0.483676  0.715425   \n",
       "\n",
       "                            aqi ts_8  who ts_8  aqi ts_7  who ts_7  aqi ts_6  \\\n",
       "Model                                                                          \n",
       "Support Vector Machines     0.658520  0.700277  0.658935  0.698696  0.655179   \n",
       "KNN                         0.576888  0.658769  0.574637  0.654957  0.566982   \n",
       "Logistic Regression         0.657224  0.699994  0.661496  0.698413  0.656264   \n",
       "Random Forest               0.635973  0.754438  0.664446  0.698332  0.662504   \n",
       "Naive Bayes                 0.389587  0.562938  0.384788  0.567710  0.372501   \n",
       "Perceptron                  0.611741  0.735980  0.480485  0.688780  0.565609   \n",
       "Stochastic Gradient Decent  0.632418  0.651388  0.591439  0.717964  0.554101   \n",
       "Decision Tree               0.443774  0.669701  0.563008  0.710771  0.547561   \n",
       "\n",
       "                            who ts_6  aqi ts_5  who ts_5  aqi ts_4  who ts_4  \\\n",
       "Model                                                                          \n",
       "Support Vector Machines     0.702991  0.658639  0.704099  0.663451  0.706226   \n",
       "KNN                         0.659600  0.571896  0.662067  0.579456  0.663203   \n",
       "Logistic Regression         0.699994  0.659971  0.701410  0.660155  0.703548   \n",
       "Random Forest               0.734898  0.659661  0.750271  0.683800  0.754964   \n",
       "Naive Bayes                 0.569270  0.350806  0.569554  0.336056  0.566853   \n",
       "Perceptron                  0.723459  0.466718  0.526658  0.561074  0.638026   \n",
       "Stochastic Gradient Decent  0.668145  0.673463  0.694422  0.560160  0.702331   \n",
       "Decision Tree               0.712054  0.542729  0.754046  0.577280  0.697429   \n",
       "\n",
       "                            aqi ts_3  who ts_3  aqi ts_2  who ts_2  \n",
       "Model                                                               \n",
       "Support Vector Machines     0.659133  0.710185  0.662462  0.711964  \n",
       "KNN                         0.580821  0.674211  0.581178  0.683325  \n",
       "Logistic Regression         0.656755  0.706158  0.659811  0.710633  \n",
       "Random Forest               0.672200  0.704539  0.692235  0.736234  \n",
       "Naive Bayes                 0.323392  0.561299  0.306626  0.549039  \n",
       "Perceptron                  0.543721  0.710545  0.633686  0.681818  \n",
       "Stochastic Gradient Decent  0.496099  0.592775  0.537712  0.706670  \n",
       "Decision Tree               0.474424  0.693452  0.591463  0.686749  "
      ]
     },
     "execution_count": 61,
     "metadata": {},
     "output_type": "execute_result"
    }
   ],
   "source": [
    "pd.set_option('display.max_columns', 100)\n",
    "result"
   ]
  },
  {
   "cell_type": "code",
   "execution_count": 62,
   "metadata": {},
   "outputs": [],
   "source": [
    "from sklearn.decomposition import PCA"
   ]
  },
  {
   "cell_type": "code",
   "execution_count": 63,
   "metadata": {},
   "outputs": [],
   "source": [
    "def time_shift_and_model_test_w_pca(china, location, start, finsh, pca=0.99):\n",
    "    time_shifting = start\n",
    "    \n",
    "    result = pd.DataFrame()\n",
    "    aqi, who, level = get_aqi_who(location)\n",
    "    level = time_shift(level, time_shifting - 1)\n",
    "    \n",
    "    while time_shifting < finsh:\n",
    "        \n",
    "        print('time shift: {}'.format(time_shifting))\n",
    "        # shifting an hour        \n",
    "        level = time_shift(level, 1)\n",
    "        \n",
    "        # merge x and y\n",
    "        data_location = china.merge(level, how='outer', left_index=True, right_index=True)\n",
    "        data_location = data_location.dropna()\n",
    "         \n",
    "        # make train and test\n",
    "        x_train, y_train_aqi, y_train_who, x_test, y_test_aqi, y_test_who = train_dev_test(data_location)\n",
    "        \n",
    "        # pca\n",
    "        pca = PCA(.99).fit(x_train)\n",
    "        k = pca.n_components_\n",
    "        print('PCA components: {}'.format(k))\n",
    "        pca = PCA(n_components=k)\n",
    "\n",
    "        pca.fit(x_train)\n",
    "        x_train = pca.transform(x_train)\n",
    "        x_test = pca.transform(x_test)\n",
    "        \n",
    "        # do the test in the model with WHO\n",
    "        test_result = models_test(x_train, y_train_who, x_test, y_test_who)\n",
    "        \n",
    "        # rename the result and concat it\n",
    "        tag = 'who ts_' + str(time_shifting)\n",
    "        test_result = test_result.rename(index=str, columns={'Score':tag})\n",
    "        \n",
    "        result = pd.concat([test_result, result], axis=1)\n",
    "        \n",
    "        # do the test in the model with AQI\n",
    "        test_result = models_test(x_train, y_train_aqi, x_test, y_test_aqi)\n",
    "        \n",
    "        # rename the result and concat it\n",
    "        tag = 'aqi ts_' + str(time_shifting)\n",
    "        test_result = test_result.rename(index=str, columns={'Score':tag})\n",
    "        \n",
    "        result = pd.concat([test_result, result], axis=1)\n",
    "        time_shifting += 1\n",
    "    return result"
   ]
  },
  {
   "cell_type": "code",
   "execution_count": 64,
   "metadata": {},
   "outputs": [
    {
     "name": "stdout",
     "output_type": "stream",
     "text": [
      "time shift: 2\n",
      "PCA components: 25\n"
     ]
    },
    {
     "name": "stderr",
     "output_type": "stream",
     "text": [
      "C:\\Users\\woare\\Anaconda3\\lib\\site-packages\\sklearn\\metrics\\classification.py:1135: UndefinedMetricWarning: F-score is ill-defined and being set to 0.0 in labels with no predicted samples.\n",
      "  'precision', 'predicted', average, warn_for)\n",
      "C:\\Users\\woare\\Anaconda3\\lib\\site-packages\\sklearn\\metrics\\classification.py:1137: UndefinedMetricWarning: F-score is ill-defined and being set to 0.0 in labels with no true samples.\n",
      "  'recall', 'true', average, warn_for)\n"
     ]
    },
    {
     "name": "stdout",
     "output_type": "stream",
     "text": [
      "time shift: 3\n",
      "PCA components: 25\n"
     ]
    },
    {
     "name": "stderr",
     "output_type": "stream",
     "text": [
      "C:\\Users\\woare\\Anaconda3\\lib\\site-packages\\sklearn\\metrics\\classification.py:1135: UndefinedMetricWarning: F-score is ill-defined and being set to 0.0 in labels with no predicted samples.\n",
      "  'precision', 'predicted', average, warn_for)\n",
      "C:\\Users\\woare\\Anaconda3\\lib\\site-packages\\sklearn\\metrics\\classification.py:1137: UndefinedMetricWarning: F-score is ill-defined and being set to 0.0 in labels with no true samples.\n",
      "  'recall', 'true', average, warn_for)\n"
     ]
    },
    {
     "name": "stdout",
     "output_type": "stream",
     "text": [
      "time shift: 4\n",
      "PCA components: 25\n"
     ]
    },
    {
     "name": "stderr",
     "output_type": "stream",
     "text": [
      "C:\\Users\\woare\\Anaconda3\\lib\\site-packages\\sklearn\\metrics\\classification.py:1135: UndefinedMetricWarning: F-score is ill-defined and being set to 0.0 in labels with no predicted samples.\n",
      "  'precision', 'predicted', average, warn_for)\n",
      "C:\\Users\\woare\\Anaconda3\\lib\\site-packages\\sklearn\\metrics\\classification.py:1137: UndefinedMetricWarning: F-score is ill-defined and being set to 0.0 in labels with no true samples.\n",
      "  'recall', 'true', average, warn_for)\n"
     ]
    },
    {
     "name": "stdout",
     "output_type": "stream",
     "text": [
      "time shift: 5\n",
      "PCA components: 25\n"
     ]
    },
    {
     "name": "stderr",
     "output_type": "stream",
     "text": [
      "C:\\Users\\woare\\Anaconda3\\lib\\site-packages\\sklearn\\metrics\\classification.py:1135: UndefinedMetricWarning: F-score is ill-defined and being set to 0.0 in labels with no predicted samples.\n",
      "  'precision', 'predicted', average, warn_for)\n",
      "C:\\Users\\woare\\Anaconda3\\lib\\site-packages\\sklearn\\metrics\\classification.py:1137: UndefinedMetricWarning: F-score is ill-defined and being set to 0.0 in labels with no true samples.\n",
      "  'recall', 'true', average, warn_for)\n"
     ]
    },
    {
     "name": "stdout",
     "output_type": "stream",
     "text": [
      "time shift: 6\n",
      "PCA components: 25\n"
     ]
    },
    {
     "name": "stderr",
     "output_type": "stream",
     "text": [
      "C:\\Users\\woare\\Anaconda3\\lib\\site-packages\\sklearn\\metrics\\classification.py:1135: UndefinedMetricWarning: F-score is ill-defined and being set to 0.0 in labels with no predicted samples.\n",
      "  'precision', 'predicted', average, warn_for)\n",
      "C:\\Users\\woare\\Anaconda3\\lib\\site-packages\\sklearn\\metrics\\classification.py:1137: UndefinedMetricWarning: F-score is ill-defined and being set to 0.0 in labels with no true samples.\n",
      "  'recall', 'true', average, warn_for)\n"
     ]
    },
    {
     "name": "stdout",
     "output_type": "stream",
     "text": [
      "time shift: 7\n",
      "PCA components: 25\n"
     ]
    },
    {
     "name": "stderr",
     "output_type": "stream",
     "text": [
      "C:\\Users\\woare\\Anaconda3\\lib\\site-packages\\sklearn\\metrics\\classification.py:1135: UndefinedMetricWarning: F-score is ill-defined and being set to 0.0 in labels with no predicted samples.\n",
      "  'precision', 'predicted', average, warn_for)\n",
      "C:\\Users\\woare\\Anaconda3\\lib\\site-packages\\sklearn\\metrics\\classification.py:1137: UndefinedMetricWarning: F-score is ill-defined and being set to 0.0 in labels with no true samples.\n",
      "  'recall', 'true', average, warn_for)\n"
     ]
    },
    {
     "name": "stdout",
     "output_type": "stream",
     "text": [
      "time shift: 8\n",
      "PCA components: 25\n"
     ]
    },
    {
     "name": "stderr",
     "output_type": "stream",
     "text": [
      "C:\\Users\\woare\\Anaconda3\\lib\\site-packages\\sklearn\\metrics\\classification.py:1135: UndefinedMetricWarning: F-score is ill-defined and being set to 0.0 in labels with no predicted samples.\n",
      "  'precision', 'predicted', average, warn_for)\n",
      "C:\\Users\\woare\\Anaconda3\\lib\\site-packages\\sklearn\\metrics\\classification.py:1137: UndefinedMetricWarning: F-score is ill-defined and being set to 0.0 in labels with no true samples.\n",
      "  'recall', 'true', average, warn_for)\n"
     ]
    },
    {
     "name": "stdout",
     "output_type": "stream",
     "text": [
      "time shift: 9\n",
      "PCA components: 25\n"
     ]
    },
    {
     "name": "stderr",
     "output_type": "stream",
     "text": [
      "C:\\Users\\woare\\Anaconda3\\lib\\site-packages\\sklearn\\metrics\\classification.py:1135: UndefinedMetricWarning: F-score is ill-defined and being set to 0.0 in labels with no predicted samples.\n",
      "  'precision', 'predicted', average, warn_for)\n",
      "C:\\Users\\woare\\Anaconda3\\lib\\site-packages\\sklearn\\metrics\\classification.py:1135: UndefinedMetricWarning: F-score is ill-defined and being set to 0.0 in labels with no predicted samples.\n",
      "  'precision', 'predicted', average, warn_for)\n",
      "C:\\Users\\woare\\Anaconda3\\lib\\site-packages\\sklearn\\metrics\\classification.py:1137: UndefinedMetricWarning: F-score is ill-defined and being set to 0.0 in labels with no true samples.\n",
      "  'recall', 'true', average, warn_for)\n"
     ]
    },
    {
     "name": "stdout",
     "output_type": "stream",
     "text": [
      "time shift: 10\n",
      "PCA components: 25\n"
     ]
    },
    {
     "name": "stderr",
     "output_type": "stream",
     "text": [
      "C:\\Users\\woare\\Anaconda3\\lib\\site-packages\\sklearn\\metrics\\classification.py:1135: UndefinedMetricWarning: F-score is ill-defined and being set to 0.0 in labels with no predicted samples.\n",
      "  'precision', 'predicted', average, warn_for)\n",
      "C:\\Users\\woare\\Anaconda3\\lib\\site-packages\\sklearn\\metrics\\classification.py:1137: UndefinedMetricWarning: F-score is ill-defined and being set to 0.0 in labels with no true samples.\n",
      "  'recall', 'true', average, warn_for)\n"
     ]
    },
    {
     "name": "stdout",
     "output_type": "stream",
     "text": [
      "time shift: 11\n",
      "PCA components: 25\n"
     ]
    },
    {
     "name": "stderr",
     "output_type": "stream",
     "text": [
      "C:\\Users\\woare\\Anaconda3\\lib\\site-packages\\sklearn\\metrics\\classification.py:1135: UndefinedMetricWarning: F-score is ill-defined and being set to 0.0 in labels with no predicted samples.\n",
      "  'precision', 'predicted', average, warn_for)\n",
      "C:\\Users\\woare\\Anaconda3\\lib\\site-packages\\sklearn\\metrics\\classification.py:1137: UndefinedMetricWarning: F-score is ill-defined and being set to 0.0 in labels with no true samples.\n",
      "  'recall', 'true', average, warn_for)\n"
     ]
    },
    {
     "name": "stdout",
     "output_type": "stream",
     "text": [
      "time shift: 12\n",
      "PCA components: 25\n"
     ]
    },
    {
     "name": "stderr",
     "output_type": "stream",
     "text": [
      "C:\\Users\\woare\\Anaconda3\\lib\\site-packages\\sklearn\\metrics\\classification.py:1135: UndefinedMetricWarning: F-score is ill-defined and being set to 0.0 in labels with no predicted samples.\n",
      "  'precision', 'predicted', average, warn_for)\n",
      "C:\\Users\\woare\\Anaconda3\\lib\\site-packages\\sklearn\\metrics\\classification.py:1135: UndefinedMetricWarning: F-score is ill-defined and being set to 0.0 in labels with no predicted samples.\n",
      "  'precision', 'predicted', average, warn_for)\n",
      "C:\\Users\\woare\\Anaconda3\\lib\\site-packages\\sklearn\\metrics\\classification.py:1137: UndefinedMetricWarning: F-score is ill-defined and being set to 0.0 in labels with no true samples.\n",
      "  'recall', 'true', average, warn_for)\n"
     ]
    },
    {
     "name": "stdout",
     "output_type": "stream",
     "text": [
      "time shift: 13\n",
      "PCA components: 25\n"
     ]
    },
    {
     "name": "stderr",
     "output_type": "stream",
     "text": [
      "C:\\Users\\woare\\Anaconda3\\lib\\site-packages\\sklearn\\metrics\\classification.py:1135: UndefinedMetricWarning: F-score is ill-defined and being set to 0.0 in labels with no predicted samples.\n",
      "  'precision', 'predicted', average, warn_for)\n",
      "C:\\Users\\woare\\Anaconda3\\lib\\site-packages\\sklearn\\metrics\\classification.py:1137: UndefinedMetricWarning: F-score is ill-defined and being set to 0.0 in labels with no true samples.\n",
      "  'recall', 'true', average, warn_for)\n"
     ]
    },
    {
     "name": "stdout",
     "output_type": "stream",
     "text": [
      "time shift: 14\n",
      "PCA components: 25\n"
     ]
    },
    {
     "name": "stderr",
     "output_type": "stream",
     "text": [
      "C:\\Users\\woare\\Anaconda3\\lib\\site-packages\\sklearn\\metrics\\classification.py:1135: UndefinedMetricWarning: F-score is ill-defined and being set to 0.0 in labels with no predicted samples.\n",
      "  'precision', 'predicted', average, warn_for)\n",
      "C:\\Users\\woare\\Anaconda3\\lib\\site-packages\\sklearn\\metrics\\classification.py:1137: UndefinedMetricWarning: F-score is ill-defined and being set to 0.0 in labels with no true samples.\n",
      "  'recall', 'true', average, warn_for)\n"
     ]
    },
    {
     "name": "stdout",
     "output_type": "stream",
     "text": [
      "time shift: 15\n",
      "PCA components: 25\n"
     ]
    },
    {
     "name": "stderr",
     "output_type": "stream",
     "text": [
      "C:\\Users\\woare\\Anaconda3\\lib\\site-packages\\sklearn\\metrics\\classification.py:1135: UndefinedMetricWarning: F-score is ill-defined and being set to 0.0 in labels with no predicted samples.\n",
      "  'precision', 'predicted', average, warn_for)\n",
      "C:\\Users\\woare\\Anaconda3\\lib\\site-packages\\sklearn\\metrics\\classification.py:1137: UndefinedMetricWarning: F-score is ill-defined and being set to 0.0 in labels with no true samples.\n",
      "  'recall', 'true', average, warn_for)\n"
     ]
    },
    {
     "name": "stdout",
     "output_type": "stream",
     "text": [
      "time shift: 16\n",
      "PCA components: 25\n"
     ]
    },
    {
     "name": "stderr",
     "output_type": "stream",
     "text": [
      "C:\\Users\\woare\\Anaconda3\\lib\\site-packages\\sklearn\\metrics\\classification.py:1135: UndefinedMetricWarning: F-score is ill-defined and being set to 0.0 in labels with no predicted samples.\n",
      "  'precision', 'predicted', average, warn_for)\n",
      "C:\\Users\\woare\\Anaconda3\\lib\\site-packages\\sklearn\\metrics\\classification.py:1137: UndefinedMetricWarning: F-score is ill-defined and being set to 0.0 in labels with no true samples.\n",
      "  'recall', 'true', average, warn_for)\n"
     ]
    },
    {
     "name": "stdout",
     "output_type": "stream",
     "text": [
      "time shift: 17\n",
      "PCA components: 25\n"
     ]
    },
    {
     "name": "stderr",
     "output_type": "stream",
     "text": [
      "C:\\Users\\woare\\Anaconda3\\lib\\site-packages\\sklearn\\metrics\\classification.py:1135: UndefinedMetricWarning: F-score is ill-defined and being set to 0.0 in labels with no predicted samples.\n",
      "  'precision', 'predicted', average, warn_for)\n",
      "C:\\Users\\woare\\Anaconda3\\lib\\site-packages\\sklearn\\metrics\\classification.py:1137: UndefinedMetricWarning: F-score is ill-defined and being set to 0.0 in labels with no true samples.\n",
      "  'recall', 'true', average, warn_for)\n"
     ]
    },
    {
     "name": "stdout",
     "output_type": "stream",
     "text": [
      "time shift: 18\n",
      "PCA components: 25\n"
     ]
    },
    {
     "name": "stderr",
     "output_type": "stream",
     "text": [
      "C:\\Users\\woare\\Anaconda3\\lib\\site-packages\\sklearn\\metrics\\classification.py:1135: UndefinedMetricWarning: F-score is ill-defined and being set to 0.0 in labels with no predicted samples.\n",
      "  'precision', 'predicted', average, warn_for)\n",
      "C:\\Users\\woare\\Anaconda3\\lib\\site-packages\\sklearn\\metrics\\classification.py:1137: UndefinedMetricWarning: F-score is ill-defined and being set to 0.0 in labels with no true samples.\n",
      "  'recall', 'true', average, warn_for)\n"
     ]
    },
    {
     "name": "stdout",
     "output_type": "stream",
     "text": [
      "time shift: 19\n",
      "PCA components: 25\n"
     ]
    },
    {
     "name": "stderr",
     "output_type": "stream",
     "text": [
      "C:\\Users\\woare\\Anaconda3\\lib\\site-packages\\sklearn\\metrics\\classification.py:1135: UndefinedMetricWarning: F-score is ill-defined and being set to 0.0 in labels with no predicted samples.\n",
      "  'precision', 'predicted', average, warn_for)\n",
      "C:\\Users\\woare\\Anaconda3\\lib\\site-packages\\sklearn\\metrics\\classification.py:1137: UndefinedMetricWarning: F-score is ill-defined and being set to 0.0 in labels with no true samples.\n",
      "  'recall', 'true', average, warn_for)\n"
     ]
    },
    {
     "name": "stdout",
     "output_type": "stream",
     "text": [
      "time shift: 20\n",
      "PCA components: 25\n"
     ]
    },
    {
     "name": "stderr",
     "output_type": "stream",
     "text": [
      "C:\\Users\\woare\\Anaconda3\\lib\\site-packages\\sklearn\\metrics\\classification.py:1135: UndefinedMetricWarning: F-score is ill-defined and being set to 0.0 in labels with no predicted samples.\n",
      "  'precision', 'predicted', average, warn_for)\n",
      "C:\\Users\\woare\\Anaconda3\\lib\\site-packages\\sklearn\\metrics\\classification.py:1135: UndefinedMetricWarning: F-score is ill-defined and being set to 0.0 in labels with no predicted samples.\n",
      "  'precision', 'predicted', average, warn_for)\n",
      "C:\\Users\\woare\\Anaconda3\\lib\\site-packages\\sklearn\\metrics\\classification.py:1137: UndefinedMetricWarning: F-score is ill-defined and being set to 0.0 in labels with no true samples.\n",
      "  'recall', 'true', average, warn_for)\n"
     ]
    },
    {
     "name": "stdout",
     "output_type": "stream",
     "text": [
      "time shift: 21\n",
      "PCA components: 25\n"
     ]
    },
    {
     "name": "stderr",
     "output_type": "stream",
     "text": [
      "C:\\Users\\woare\\Anaconda3\\lib\\site-packages\\sklearn\\metrics\\classification.py:1135: UndefinedMetricWarning: F-score is ill-defined and being set to 0.0 in labels with no predicted samples.\n",
      "  'precision', 'predicted', average, warn_for)\n",
      "C:\\Users\\woare\\Anaconda3\\lib\\site-packages\\sklearn\\metrics\\classification.py:1135: UndefinedMetricWarning: F-score is ill-defined and being set to 0.0 in labels with no predicted samples.\n",
      "  'precision', 'predicted', average, warn_for)\n",
      "C:\\Users\\woare\\Anaconda3\\lib\\site-packages\\sklearn\\metrics\\classification.py:1137: UndefinedMetricWarning: F-score is ill-defined and being set to 0.0 in labels with no true samples.\n",
      "  'recall', 'true', average, warn_for)\n"
     ]
    },
    {
     "name": "stdout",
     "output_type": "stream",
     "text": [
      "time shift: 22\n",
      "PCA components: 25\n"
     ]
    },
    {
     "name": "stderr",
     "output_type": "stream",
     "text": [
      "C:\\Users\\woare\\Anaconda3\\lib\\site-packages\\sklearn\\metrics\\classification.py:1135: UndefinedMetricWarning: F-score is ill-defined and being set to 0.0 in labels with no predicted samples.\n",
      "  'precision', 'predicted', average, warn_for)\n",
      "C:\\Users\\woare\\Anaconda3\\lib\\site-packages\\sklearn\\metrics\\classification.py:1135: UndefinedMetricWarning: F-score is ill-defined and being set to 0.0 in labels with no predicted samples.\n",
      "  'precision', 'predicted', average, warn_for)\n",
      "C:\\Users\\woare\\Anaconda3\\lib\\site-packages\\sklearn\\metrics\\classification.py:1137: UndefinedMetricWarning: F-score is ill-defined and being set to 0.0 in labels with no true samples.\n",
      "  'recall', 'true', average, warn_for)\n"
     ]
    },
    {
     "name": "stdout",
     "output_type": "stream",
     "text": [
      "time shift: 23\n",
      "PCA components: 25\n"
     ]
    },
    {
     "name": "stderr",
     "output_type": "stream",
     "text": [
      "C:\\Users\\woare\\Anaconda3\\lib\\site-packages\\sklearn\\metrics\\classification.py:1135: UndefinedMetricWarning: F-score is ill-defined and being set to 0.0 in labels with no predicted samples.\n",
      "  'precision', 'predicted', average, warn_for)\n",
      "C:\\Users\\woare\\Anaconda3\\lib\\site-packages\\sklearn\\metrics\\classification.py:1135: UndefinedMetricWarning: F-score is ill-defined and being set to 0.0 in labels with no predicted samples.\n",
      "  'precision', 'predicted', average, warn_for)\n",
      "C:\\Users\\woare\\Anaconda3\\lib\\site-packages\\sklearn\\metrics\\classification.py:1137: UndefinedMetricWarning: F-score is ill-defined and being set to 0.0 in labels with no true samples.\n",
      "  'recall', 'true', average, warn_for)\n"
     ]
    },
    {
     "name": "stdout",
     "output_type": "stream",
     "text": [
      "time shift: 24\n",
      "PCA components: 25\n"
     ]
    },
    {
     "name": "stderr",
     "output_type": "stream",
     "text": [
      "C:\\Users\\woare\\Anaconda3\\lib\\site-packages\\sklearn\\metrics\\classification.py:1135: UndefinedMetricWarning: F-score is ill-defined and being set to 0.0 in labels with no predicted samples.\n",
      "  'precision', 'predicted', average, warn_for)\n",
      "C:\\Users\\woare\\Anaconda3\\lib\\site-packages\\sklearn\\metrics\\classification.py:1135: UndefinedMetricWarning: F-score is ill-defined and being set to 0.0 in labels with no predicted samples.\n",
      "  'precision', 'predicted', average, warn_for)\n",
      "C:\\Users\\woare\\Anaconda3\\lib\\site-packages\\sklearn\\metrics\\classification.py:1137: UndefinedMetricWarning: F-score is ill-defined and being set to 0.0 in labels with no true samples.\n",
      "  'recall', 'true', average, warn_for)\n"
     ]
    }
   ],
   "source": [
    "result = time_shift_and_model_test_w_pca(china_datasets, location=backyoungdo, start=2, finsh=25)"
   ]
  },
  {
   "cell_type": "code",
   "execution_count": 66,
   "metadata": {},
   "outputs": [
    {
     "data": {
      "text/html": [
       "<div>\n",
       "<style scoped>\n",
       "    .dataframe tbody tr th:only-of-type {\n",
       "        vertical-align: middle;\n",
       "    }\n",
       "\n",
       "    .dataframe tbody tr th {\n",
       "        vertical-align: top;\n",
       "    }\n",
       "\n",
       "    .dataframe thead th {\n",
       "        text-align: right;\n",
       "    }\n",
       "</style>\n",
       "<table border=\"1\" class=\"dataframe\">\n",
       "  <thead>\n",
       "    <tr style=\"text-align: right;\">\n",
       "      <th></th>\n",
       "      <th>aqi ts_24</th>\n",
       "      <th>who ts_24</th>\n",
       "      <th>aqi ts_23</th>\n",
       "      <th>who ts_23</th>\n",
       "      <th>aqi ts_22</th>\n",
       "      <th>who ts_22</th>\n",
       "      <th>aqi ts_21</th>\n",
       "      <th>who ts_21</th>\n",
       "      <th>aqi ts_20</th>\n",
       "      <th>who ts_20</th>\n",
       "      <th>aqi ts_19</th>\n",
       "      <th>who ts_19</th>\n",
       "      <th>aqi ts_18</th>\n",
       "      <th>who ts_18</th>\n",
       "      <th>aqi ts_17</th>\n",
       "      <th>who ts_17</th>\n",
       "      <th>aqi ts_16</th>\n",
       "      <th>who ts_16</th>\n",
       "      <th>aqi ts_15</th>\n",
       "      <th>who ts_15</th>\n",
       "      <th>aqi ts_14</th>\n",
       "      <th>who ts_14</th>\n",
       "      <th>aqi ts_13</th>\n",
       "      <th>who ts_13</th>\n",
       "      <th>aqi ts_12</th>\n",
       "      <th>who ts_12</th>\n",
       "      <th>aqi ts_11</th>\n",
       "      <th>who ts_11</th>\n",
       "      <th>aqi ts_10</th>\n",
       "      <th>who ts_10</th>\n",
       "      <th>aqi ts_9</th>\n",
       "      <th>who ts_9</th>\n",
       "      <th>aqi ts_8</th>\n",
       "      <th>who ts_8</th>\n",
       "      <th>aqi ts_7</th>\n",
       "      <th>who ts_7</th>\n",
       "      <th>aqi ts_6</th>\n",
       "      <th>who ts_6</th>\n",
       "      <th>aqi ts_5</th>\n",
       "      <th>who ts_5</th>\n",
       "      <th>aqi ts_4</th>\n",
       "      <th>who ts_4</th>\n",
       "      <th>aqi ts_3</th>\n",
       "      <th>who ts_3</th>\n",
       "      <th>aqi ts_2</th>\n",
       "      <th>who ts_2</th>\n",
       "    </tr>\n",
       "    <tr>\n",
       "      <th>Model</th>\n",
       "      <th></th>\n",
       "      <th></th>\n",
       "      <th></th>\n",
       "      <th></th>\n",
       "      <th></th>\n",
       "      <th></th>\n",
       "      <th></th>\n",
       "      <th></th>\n",
       "      <th></th>\n",
       "      <th></th>\n",
       "      <th></th>\n",
       "      <th></th>\n",
       "      <th></th>\n",
       "      <th></th>\n",
       "      <th></th>\n",
       "      <th></th>\n",
       "      <th></th>\n",
       "      <th></th>\n",
       "      <th></th>\n",
       "      <th></th>\n",
       "      <th></th>\n",
       "      <th></th>\n",
       "      <th></th>\n",
       "      <th></th>\n",
       "      <th></th>\n",
       "      <th></th>\n",
       "      <th></th>\n",
       "      <th></th>\n",
       "      <th></th>\n",
       "      <th></th>\n",
       "      <th></th>\n",
       "      <th></th>\n",
       "      <th></th>\n",
       "      <th></th>\n",
       "      <th></th>\n",
       "      <th></th>\n",
       "      <th></th>\n",
       "      <th></th>\n",
       "      <th></th>\n",
       "      <th></th>\n",
       "      <th></th>\n",
       "      <th></th>\n",
       "      <th></th>\n",
       "      <th></th>\n",
       "      <th></th>\n",
       "      <th></th>\n",
       "    </tr>\n",
       "  </thead>\n",
       "  <tbody>\n",
       "    <tr>\n",
       "      <th>Support Vector Machines</th>\n",
       "      <td>0.629827</td>\n",
       "      <td>0.695597</td>\n",
       "      <td>0.628973</td>\n",
       "      <td>0.697966</td>\n",
       "      <td>0.628389</td>\n",
       "      <td>0.701128</td>\n",
       "      <td>0.629511</td>\n",
       "      <td>0.702710</td>\n",
       "      <td>0.641676</td>\n",
       "      <td>0.702710</td>\n",
       "      <td>0.644324</td>\n",
       "      <td>0.700845</td>\n",
       "      <td>0.645272</td>\n",
       "      <td>0.700054</td>\n",
       "      <td>0.652255</td>\n",
       "      <td>0.701636</td>\n",
       "      <td>0.657498</td>\n",
       "      <td>0.700845</td>\n",
       "      <td>0.651876</td>\n",
       "      <td>0.702935</td>\n",
       "      <td>0.651629</td>\n",
       "      <td>0.705594</td>\n",
       "      <td>0.650688</td>\n",
       "      <td>0.705310</td>\n",
       "      <td>0.653580</td>\n",
       "      <td>0.704518</td>\n",
       "      <td>0.654600</td>\n",
       "      <td>0.703443</td>\n",
       "      <td>0.660667</td>\n",
       "      <td>0.701068</td>\n",
       "      <td>0.663743</td>\n",
       "      <td>0.699487</td>\n",
       "      <td>0.662620</td>\n",
       "      <td>0.700277</td>\n",
       "      <td>0.660417</td>\n",
       "      <td>0.698696</td>\n",
       "      <td>0.656442</td>\n",
       "      <td>0.700277</td>\n",
       "      <td>0.660155</td>\n",
       "      <td>0.699769</td>\n",
       "      <td>0.662076</td>\n",
       "      <td>0.700560</td>\n",
       "      <td>0.661194</td>\n",
       "      <td>0.704516</td>\n",
       "      <td>0.658014</td>\n",
       "      <td>0.704966</td>\n",
       "    </tr>\n",
       "    <tr>\n",
       "      <th>KNN</th>\n",
       "      <td>0.590387</td>\n",
       "      <td>0.701863</td>\n",
       "      <td>0.576142</td>\n",
       "      <td>0.706170</td>\n",
       "      <td>0.582560</td>\n",
       "      <td>0.708313</td>\n",
       "      <td>0.591233</td>\n",
       "      <td>0.707027</td>\n",
       "      <td>0.594010</td>\n",
       "      <td>0.705005</td>\n",
       "      <td>0.584664</td>\n",
       "      <td>0.705718</td>\n",
       "      <td>0.573321</td>\n",
       "      <td>0.701699</td>\n",
       "      <td>0.568952</td>\n",
       "      <td>0.695849</td>\n",
       "      <td>0.575823</td>\n",
       "      <td>0.691349</td>\n",
       "      <td>0.573109</td>\n",
       "      <td>0.675228</td>\n",
       "      <td>0.569841</td>\n",
       "      <td>0.677483</td>\n",
       "      <td>0.568990</td>\n",
       "      <td>0.677092</td>\n",
       "      <td>0.572033</td>\n",
       "      <td>0.669678</td>\n",
       "      <td>0.568017</td>\n",
       "      <td>0.669663</td>\n",
       "      <td>0.570765</td>\n",
       "      <td>0.669738</td>\n",
       "      <td>0.576099</td>\n",
       "      <td>0.664745</td>\n",
       "      <td>0.575195</td>\n",
       "      <td>0.658387</td>\n",
       "      <td>0.577163</td>\n",
       "      <td>0.654502</td>\n",
       "      <td>0.573931</td>\n",
       "      <td>0.661135</td>\n",
       "      <td>0.574597</td>\n",
       "      <td>0.665974</td>\n",
       "      <td>0.583536</td>\n",
       "      <td>0.666733</td>\n",
       "      <td>0.585159</td>\n",
       "      <td>0.675141</td>\n",
       "      <td>0.580520</td>\n",
       "      <td>0.685140</td>\n",
       "    </tr>\n",
       "    <tr>\n",
       "      <th>Logistic Regression</th>\n",
       "      <td>0.628383</td>\n",
       "      <td>0.695314</td>\n",
       "      <td>0.626841</td>\n",
       "      <td>0.697400</td>\n",
       "      <td>0.629813</td>\n",
       "      <td>0.700277</td>\n",
       "      <td>0.632392</td>\n",
       "      <td>0.701860</td>\n",
       "      <td>0.644913</td>\n",
       "      <td>0.701860</td>\n",
       "      <td>0.644441</td>\n",
       "      <td>0.700277</td>\n",
       "      <td>0.647327</td>\n",
       "      <td>0.699487</td>\n",
       "      <td>0.650089</td>\n",
       "      <td>0.701068</td>\n",
       "      <td>0.653786</td>\n",
       "      <td>0.700277</td>\n",
       "      <td>0.650559</td>\n",
       "      <td>0.702651</td>\n",
       "      <td>0.654543</td>\n",
       "      <td>0.705026</td>\n",
       "      <td>0.649627</td>\n",
       "      <td>0.705026</td>\n",
       "      <td>0.653883</td>\n",
       "      <td>0.704234</td>\n",
       "      <td>0.651936</td>\n",
       "      <td>0.703443</td>\n",
       "      <td>0.658683</td>\n",
       "      <td>0.701068</td>\n",
       "      <td>0.662219</td>\n",
       "      <td>0.699487</td>\n",
       "      <td>0.665969</td>\n",
       "      <td>0.700277</td>\n",
       "      <td>0.665308</td>\n",
       "      <td>0.698413</td>\n",
       "      <td>0.659788</td>\n",
       "      <td>0.699994</td>\n",
       "      <td>0.661233</td>\n",
       "      <td>0.698413</td>\n",
       "      <td>0.659434</td>\n",
       "      <td>0.700560</td>\n",
       "      <td>0.656653</td>\n",
       "      <td>0.704516</td>\n",
       "      <td>0.655656</td>\n",
       "      <td>0.705251</td>\n",
       "    </tr>\n",
       "    <tr>\n",
       "      <th>Random Forest</th>\n",
       "      <td>0.613086</td>\n",
       "      <td>0.698581</td>\n",
       "      <td>0.630451</td>\n",
       "      <td>0.694226</td>\n",
       "      <td>0.613860</td>\n",
       "      <td>0.703331</td>\n",
       "      <td>0.629116</td>\n",
       "      <td>0.702442</td>\n",
       "      <td>0.613325</td>\n",
       "      <td>0.698060</td>\n",
       "      <td>0.616221</td>\n",
       "      <td>0.699053</td>\n",
       "      <td>0.631479</td>\n",
       "      <td>0.692354</td>\n",
       "      <td>0.631968</td>\n",
       "      <td>0.706270</td>\n",
       "      <td>0.634093</td>\n",
       "      <td>0.700547</td>\n",
       "      <td>0.647078</td>\n",
       "      <td>0.714645</td>\n",
       "      <td>0.628744</td>\n",
       "      <td>0.703624</td>\n",
       "      <td>0.615861</td>\n",
       "      <td>0.706630</td>\n",
       "      <td>0.630457</td>\n",
       "      <td>0.691278</td>\n",
       "      <td>0.633433</td>\n",
       "      <td>0.700078</td>\n",
       "      <td>0.619550</td>\n",
       "      <td>0.699408</td>\n",
       "      <td>0.630776</td>\n",
       "      <td>0.702718</td>\n",
       "      <td>0.645257</td>\n",
       "      <td>0.708536</td>\n",
       "      <td>0.641387</td>\n",
       "      <td>0.704949</td>\n",
       "      <td>0.644338</td>\n",
       "      <td>0.709175</td>\n",
       "      <td>0.651714</td>\n",
       "      <td>0.699459</td>\n",
       "      <td>0.657820</td>\n",
       "      <td>0.705669</td>\n",
       "      <td>0.662506</td>\n",
       "      <td>0.705882</td>\n",
       "      <td>0.642896</td>\n",
       "      <td>0.704965</td>\n",
       "    </tr>\n",
       "    <tr>\n",
       "      <th>Naive Bayes</th>\n",
       "      <td>0.551501</td>\n",
       "      <td>0.689198</td>\n",
       "      <td>0.548516</td>\n",
       "      <td>0.688157</td>\n",
       "      <td>0.486444</td>\n",
       "      <td>0.553125</td>\n",
       "      <td>0.465056</td>\n",
       "      <td>0.571176</td>\n",
       "      <td>0.434678</td>\n",
       "      <td>0.609057</td>\n",
       "      <td>0.431109</td>\n",
       "      <td>0.641162</td>\n",
       "      <td>0.455778</td>\n",
       "      <td>0.668347</td>\n",
       "      <td>0.473022</td>\n",
       "      <td>0.680629</td>\n",
       "      <td>0.494667</td>\n",
       "      <td>0.679651</td>\n",
       "      <td>0.500328</td>\n",
       "      <td>0.674048</td>\n",
       "      <td>0.502421</td>\n",
       "      <td>0.674740</td>\n",
       "      <td>0.523892</td>\n",
       "      <td>0.667215</td>\n",
       "      <td>0.528085</td>\n",
       "      <td>0.662059</td>\n",
       "      <td>0.527724</td>\n",
       "      <td>0.643151</td>\n",
       "      <td>0.494893</td>\n",
       "      <td>0.591339</td>\n",
       "      <td>0.460104</td>\n",
       "      <td>0.580186</td>\n",
       "      <td>0.441740</td>\n",
       "      <td>0.615107</td>\n",
       "      <td>0.405731</td>\n",
       "      <td>0.619103</td>\n",
       "      <td>0.367891</td>\n",
       "      <td>0.601733</td>\n",
       "      <td>0.330014</td>\n",
       "      <td>0.557266</td>\n",
       "      <td>0.316019</td>\n",
       "      <td>0.547900</td>\n",
       "      <td>0.317918</td>\n",
       "      <td>0.538101</td>\n",
       "      <td>0.305459</td>\n",
       "      <td>0.511637</td>\n",
       "    </tr>\n",
       "    <tr>\n",
       "      <th>Perceptron</th>\n",
       "      <td>0.548224</td>\n",
       "      <td>0.682334</td>\n",
       "      <td>0.559756</td>\n",
       "      <td>0.710479</td>\n",
       "      <td>0.532113</td>\n",
       "      <td>0.688828</td>\n",
       "      <td>0.547511</td>\n",
       "      <td>0.702143</td>\n",
       "      <td>0.536089</td>\n",
       "      <td>0.692621</td>\n",
       "      <td>0.518886</td>\n",
       "      <td>0.623614</td>\n",
       "      <td>0.558700</td>\n",
       "      <td>0.675537</td>\n",
       "      <td>0.493501</td>\n",
       "      <td>0.687049</td>\n",
       "      <td>0.535026</td>\n",
       "      <td>0.732256</td>\n",
       "      <td>0.495641</td>\n",
       "      <td>0.698782</td>\n",
       "      <td>0.568972</td>\n",
       "      <td>0.756787</td>\n",
       "      <td>0.580941</td>\n",
       "      <td>0.738407</td>\n",
       "      <td>0.530297</td>\n",
       "      <td>0.621743</td>\n",
       "      <td>0.600231</td>\n",
       "      <td>0.670948</td>\n",
       "      <td>0.618023</td>\n",
       "      <td>0.603127</td>\n",
       "      <td>0.607288</td>\n",
       "      <td>0.668692</td>\n",
       "      <td>0.569884</td>\n",
       "      <td>0.695573</td>\n",
       "      <td>0.547825</td>\n",
       "      <td>0.707702</td>\n",
       "      <td>0.647041</td>\n",
       "      <td>0.673680</td>\n",
       "      <td>0.561105</td>\n",
       "      <td>0.682639</td>\n",
       "      <td>0.554537</td>\n",
       "      <td>0.655587</td>\n",
       "      <td>0.649283</td>\n",
       "      <td>0.698215</td>\n",
       "      <td>0.650088</td>\n",
       "      <td>0.714091</td>\n",
       "    </tr>\n",
       "    <tr>\n",
       "      <th>Stochastic Gradient Decent</th>\n",
       "      <td>0.500246</td>\n",
       "      <td>0.695246</td>\n",
       "      <td>0.380667</td>\n",
       "      <td>0.701739</td>\n",
       "      <td>0.557956</td>\n",
       "      <td>0.707427</td>\n",
       "      <td>0.412911</td>\n",
       "      <td>0.699583</td>\n",
       "      <td>0.631692</td>\n",
       "      <td>0.699476</td>\n",
       "      <td>0.596795</td>\n",
       "      <td>0.700845</td>\n",
       "      <td>0.659707</td>\n",
       "      <td>0.738929</td>\n",
       "      <td>0.518690</td>\n",
       "      <td>0.734228</td>\n",
       "      <td>0.504813</td>\n",
       "      <td>0.691111</td>\n",
       "      <td>0.558168</td>\n",
       "      <td>0.721521</td>\n",
       "      <td>0.640273</td>\n",
       "      <td>0.728364</td>\n",
       "      <td>0.602636</td>\n",
       "      <td>0.704458</td>\n",
       "      <td>0.648666</td>\n",
       "      <td>0.763543</td>\n",
       "      <td>0.575638</td>\n",
       "      <td>0.707680</td>\n",
       "      <td>0.553955</td>\n",
       "      <td>0.675858</td>\n",
       "      <td>0.544139</td>\n",
       "      <td>0.696672</td>\n",
       "      <td>0.597473</td>\n",
       "      <td>0.755847</td>\n",
       "      <td>0.510094</td>\n",
       "      <td>0.694302</td>\n",
       "      <td>0.380386</td>\n",
       "      <td>0.696001</td>\n",
       "      <td>0.619864</td>\n",
       "      <td>0.699377</td>\n",
       "      <td>0.671359</td>\n",
       "      <td>0.702490</td>\n",
       "      <td>0.624257</td>\n",
       "      <td>0.691128</td>\n",
       "      <td>0.621995</td>\n",
       "      <td>0.684517</td>\n",
       "    </tr>\n",
       "    <tr>\n",
       "      <th>Decision Tree</th>\n",
       "      <td>0.529266</td>\n",
       "      <td>0.659662</td>\n",
       "      <td>0.503289</td>\n",
       "      <td>0.683185</td>\n",
       "      <td>0.557960</td>\n",
       "      <td>0.671863</td>\n",
       "      <td>0.494754</td>\n",
       "      <td>0.651779</td>\n",
       "      <td>0.517143</td>\n",
       "      <td>0.682668</td>\n",
       "      <td>0.541525</td>\n",
       "      <td>0.664862</td>\n",
       "      <td>0.539520</td>\n",
       "      <td>0.687085</td>\n",
       "      <td>0.525541</td>\n",
       "      <td>0.662596</td>\n",
       "      <td>0.549110</td>\n",
       "      <td>0.692640</td>\n",
       "      <td>0.536567</td>\n",
       "      <td>0.728943</td>\n",
       "      <td>0.543738</td>\n",
       "      <td>0.678983</td>\n",
       "      <td>0.557279</td>\n",
       "      <td>0.701503</td>\n",
       "      <td>0.570016</td>\n",
       "      <td>0.707340</td>\n",
       "      <td>0.522198</td>\n",
       "      <td>0.709866</td>\n",
       "      <td>0.518145</td>\n",
       "      <td>0.659055</td>\n",
       "      <td>0.574100</td>\n",
       "      <td>0.698848</td>\n",
       "      <td>0.542981</td>\n",
       "      <td>0.677569</td>\n",
       "      <td>0.566545</td>\n",
       "      <td>0.676241</td>\n",
       "      <td>0.577373</td>\n",
       "      <td>0.697331</td>\n",
       "      <td>0.557341</td>\n",
       "      <td>0.662043</td>\n",
       "      <td>0.549836</td>\n",
       "      <td>0.693003</td>\n",
       "      <td>0.624846</td>\n",
       "      <td>0.688033</td>\n",
       "      <td>0.576584</td>\n",
       "      <td>0.697271</td>\n",
       "    </tr>\n",
       "  </tbody>\n",
       "</table>\n",
       "</div>"
      ],
      "text/plain": [
       "                            aqi ts_24  who ts_24  aqi ts_23  who ts_23  \\\n",
       "Model                                                                    \n",
       "Support Vector Machines      0.629827   0.695597   0.628973   0.697966   \n",
       "KNN                          0.590387   0.701863   0.576142   0.706170   \n",
       "Logistic Regression          0.628383   0.695314   0.626841   0.697400   \n",
       "Random Forest                0.613086   0.698581   0.630451   0.694226   \n",
       "Naive Bayes                  0.551501   0.689198   0.548516   0.688157   \n",
       "Perceptron                   0.548224   0.682334   0.559756   0.710479   \n",
       "Stochastic Gradient Decent   0.500246   0.695246   0.380667   0.701739   \n",
       "Decision Tree                0.529266   0.659662   0.503289   0.683185   \n",
       "\n",
       "                            aqi ts_22  who ts_22  aqi ts_21  who ts_21  \\\n",
       "Model                                                                    \n",
       "Support Vector Machines      0.628389   0.701128   0.629511   0.702710   \n",
       "KNN                          0.582560   0.708313   0.591233   0.707027   \n",
       "Logistic Regression          0.629813   0.700277   0.632392   0.701860   \n",
       "Random Forest                0.613860   0.703331   0.629116   0.702442   \n",
       "Naive Bayes                  0.486444   0.553125   0.465056   0.571176   \n",
       "Perceptron                   0.532113   0.688828   0.547511   0.702143   \n",
       "Stochastic Gradient Decent   0.557956   0.707427   0.412911   0.699583   \n",
       "Decision Tree                0.557960   0.671863   0.494754   0.651779   \n",
       "\n",
       "                            aqi ts_20  who ts_20  aqi ts_19  who ts_19  \\\n",
       "Model                                                                    \n",
       "Support Vector Machines      0.641676   0.702710   0.644324   0.700845   \n",
       "KNN                          0.594010   0.705005   0.584664   0.705718   \n",
       "Logistic Regression          0.644913   0.701860   0.644441   0.700277   \n",
       "Random Forest                0.613325   0.698060   0.616221   0.699053   \n",
       "Naive Bayes                  0.434678   0.609057   0.431109   0.641162   \n",
       "Perceptron                   0.536089   0.692621   0.518886   0.623614   \n",
       "Stochastic Gradient Decent   0.631692   0.699476   0.596795   0.700845   \n",
       "Decision Tree                0.517143   0.682668   0.541525   0.664862   \n",
       "\n",
       "                            aqi ts_18  who ts_18  aqi ts_17  who ts_17  \\\n",
       "Model                                                                    \n",
       "Support Vector Machines      0.645272   0.700054   0.652255   0.701636   \n",
       "KNN                          0.573321   0.701699   0.568952   0.695849   \n",
       "Logistic Regression          0.647327   0.699487   0.650089   0.701068   \n",
       "Random Forest                0.631479   0.692354   0.631968   0.706270   \n",
       "Naive Bayes                  0.455778   0.668347   0.473022   0.680629   \n",
       "Perceptron                   0.558700   0.675537   0.493501   0.687049   \n",
       "Stochastic Gradient Decent   0.659707   0.738929   0.518690   0.734228   \n",
       "Decision Tree                0.539520   0.687085   0.525541   0.662596   \n",
       "\n",
       "                            aqi ts_16  who ts_16  aqi ts_15  who ts_15  \\\n",
       "Model                                                                    \n",
       "Support Vector Machines      0.657498   0.700845   0.651876   0.702935   \n",
       "KNN                          0.575823   0.691349   0.573109   0.675228   \n",
       "Logistic Regression          0.653786   0.700277   0.650559   0.702651   \n",
       "Random Forest                0.634093   0.700547   0.647078   0.714645   \n",
       "Naive Bayes                  0.494667   0.679651   0.500328   0.674048   \n",
       "Perceptron                   0.535026   0.732256   0.495641   0.698782   \n",
       "Stochastic Gradient Decent   0.504813   0.691111   0.558168   0.721521   \n",
       "Decision Tree                0.549110   0.692640   0.536567   0.728943   \n",
       "\n",
       "                            aqi ts_14  who ts_14  aqi ts_13  who ts_13  \\\n",
       "Model                                                                    \n",
       "Support Vector Machines      0.651629   0.705594   0.650688   0.705310   \n",
       "KNN                          0.569841   0.677483   0.568990   0.677092   \n",
       "Logistic Regression          0.654543   0.705026   0.649627   0.705026   \n",
       "Random Forest                0.628744   0.703624   0.615861   0.706630   \n",
       "Naive Bayes                  0.502421   0.674740   0.523892   0.667215   \n",
       "Perceptron                   0.568972   0.756787   0.580941   0.738407   \n",
       "Stochastic Gradient Decent   0.640273   0.728364   0.602636   0.704458   \n",
       "Decision Tree                0.543738   0.678983   0.557279   0.701503   \n",
       "\n",
       "                            aqi ts_12  who ts_12  aqi ts_11  who ts_11  \\\n",
       "Model                                                                    \n",
       "Support Vector Machines      0.653580   0.704518   0.654600   0.703443   \n",
       "KNN                          0.572033   0.669678   0.568017   0.669663   \n",
       "Logistic Regression          0.653883   0.704234   0.651936   0.703443   \n",
       "Random Forest                0.630457   0.691278   0.633433   0.700078   \n",
       "Naive Bayes                  0.528085   0.662059   0.527724   0.643151   \n",
       "Perceptron                   0.530297   0.621743   0.600231   0.670948   \n",
       "Stochastic Gradient Decent   0.648666   0.763543   0.575638   0.707680   \n",
       "Decision Tree                0.570016   0.707340   0.522198   0.709866   \n",
       "\n",
       "                            aqi ts_10  who ts_10  aqi ts_9  who ts_9  \\\n",
       "Model                                                                  \n",
       "Support Vector Machines      0.660667   0.701068  0.663743  0.699487   \n",
       "KNN                          0.570765   0.669738  0.576099  0.664745   \n",
       "Logistic Regression          0.658683   0.701068  0.662219  0.699487   \n",
       "Random Forest                0.619550   0.699408  0.630776  0.702718   \n",
       "Naive Bayes                  0.494893   0.591339  0.460104  0.580186   \n",
       "Perceptron                   0.618023   0.603127  0.607288  0.668692   \n",
       "Stochastic Gradient Decent   0.553955   0.675858  0.544139  0.696672   \n",
       "Decision Tree                0.518145   0.659055  0.574100  0.698848   \n",
       "\n",
       "                            aqi ts_8  who ts_8  aqi ts_7  who ts_7  aqi ts_6  \\\n",
       "Model                                                                          \n",
       "Support Vector Machines     0.662620  0.700277  0.660417  0.698696  0.656442   \n",
       "KNN                         0.575195  0.658387  0.577163  0.654502  0.573931   \n",
       "Logistic Regression         0.665969  0.700277  0.665308  0.698413  0.659788   \n",
       "Random Forest               0.645257  0.708536  0.641387  0.704949  0.644338   \n",
       "Naive Bayes                 0.441740  0.615107  0.405731  0.619103  0.367891   \n",
       "Perceptron                  0.569884  0.695573  0.547825  0.707702  0.647041   \n",
       "Stochastic Gradient Decent  0.597473  0.755847  0.510094  0.694302  0.380386   \n",
       "Decision Tree               0.542981  0.677569  0.566545  0.676241  0.577373   \n",
       "\n",
       "                            who ts_6  aqi ts_5  who ts_5  aqi ts_4  who ts_4  \\\n",
       "Model                                                                          \n",
       "Support Vector Machines     0.700277  0.660155  0.699769  0.662076  0.700560   \n",
       "KNN                         0.661135  0.574597  0.665974  0.583536  0.666733   \n",
       "Logistic Regression         0.699994  0.661233  0.698413  0.659434  0.700560   \n",
       "Random Forest               0.709175  0.651714  0.699459  0.657820  0.705669   \n",
       "Naive Bayes                 0.601733  0.330014  0.557266  0.316019  0.547900   \n",
       "Perceptron                  0.673680  0.561105  0.682639  0.554537  0.655587   \n",
       "Stochastic Gradient Decent  0.696001  0.619864  0.699377  0.671359  0.702490   \n",
       "Decision Tree               0.697331  0.557341  0.662043  0.549836  0.693003   \n",
       "\n",
       "                            aqi ts_3  who ts_3  aqi ts_2  who ts_2  \n",
       "Model                                                               \n",
       "Support Vector Machines     0.661194  0.704516  0.658014  0.704966  \n",
       "KNN                         0.585159  0.675141  0.580520  0.685140  \n",
       "Logistic Regression         0.656653  0.704516  0.655656  0.705251  \n",
       "Random Forest               0.662506  0.705882  0.642896  0.704965  \n",
       "Naive Bayes                 0.317918  0.538101  0.305459  0.511637  \n",
       "Perceptron                  0.649283  0.698215  0.650088  0.714091  \n",
       "Stochastic Gradient Decent  0.624257  0.691128  0.621995  0.684517  \n",
       "Decision Tree               0.624846  0.688033  0.576584  0.697271  "
      ]
     },
     "execution_count": 66,
     "metadata": {},
     "output_type": "execute_result"
    }
   ],
   "source": [
    "pd.set_option('display.max_columns', 100)\n",
    "result"
   ]
  },
  {
   "cell_type": "code",
   "execution_count": 67,
   "metadata": {},
   "outputs": [],
   "source": [
    "def time_shift_w_pca_dataset(china, location, timeshift, pca=0.99):\n",
    "    \n",
    "    aqi, who, level = get_aqi_who(location)\n",
    "    level = time_shift(level, timeshift)\n",
    "    \n",
    "    print('time shift: {}'.format(timeshift))\n",
    "    # shifting an hour        \n",
    "    level = time_shift(level, 1)\n",
    "\n",
    "    # merge x and y\n",
    "    data_location = china.merge(level, how='outer', left_index=True, right_index=True)\n",
    "    data_location = data_location.dropna()\n",
    "\n",
    "    # make train and test\n",
    "    x_train, y_train_aqi, y_train_who, x_test, y_test_aqi, y_test_who = train_dev_test(data_location)\n",
    "\n",
    "    # pca\n",
    "    pca = PCA(.99).fit(x_train)\n",
    "    k = pca.n_components_\n",
    "    print('PCA components: {}'.format(k))\n",
    "    pca = PCA(n_components=k)\n",
    "\n",
    "    pca.fit(x_train)\n",
    "    x_train = pca.transform(x_train)\n",
    "    x_test = pca.transform(x_test)\n",
    "\n",
    "    return x_train, y_train_aqi, y_train_who, x_test, y_test_aqi, y_test_who"
   ]
  },
  {
   "cell_type": "code",
   "execution_count": 68,
   "metadata": {},
   "outputs": [
    {
     "name": "stdout",
     "output_type": "stream",
     "text": [
      "time shift: 6\n",
      "PCA components: 25\n"
     ]
    }
   ],
   "source": [
    "x_train, y_train_aqi, y_train_who, x_test, y_test_aqi, y_test_who = time_shift_w_pca_dataset(china_datasets, backyoungdo, 6)"
   ]
  },
  {
   "cell_type": "code",
   "execution_count": 69,
   "metadata": {},
   "outputs": [
    {
     "name": "stdout",
     "output_type": "stream",
     "text": [
      "Parameters currently in use:\n",
      "\n",
      "{'bootstrap': True,\n",
      " 'class_weight': None,\n",
      " 'criterion': 'gini',\n",
      " 'max_depth': None,\n",
      " 'max_features': 'auto',\n",
      " 'max_leaf_nodes': None,\n",
      " 'min_impurity_decrease': 0.0,\n",
      " 'min_impurity_split': None,\n",
      " 'min_samples_leaf': 1,\n",
      " 'min_samples_split': 2,\n",
      " 'min_weight_fraction_leaf': 0.0,\n",
      " 'n_estimators': 10,\n",
      " 'n_jobs': 1,\n",
      " 'oob_score': False,\n",
      " 'random_state': 42,\n",
      " 'verbose': 0,\n",
      " 'warm_start': False}\n"
     ]
    }
   ],
   "source": [
    "rf = RandomForestClassifier(random_state = 42)\n",
    "from pprint import pprint\n",
    "# Look at parameters used by our current forest\n",
    "print('Parameters currently in use:\\n')\n",
    "pprint(rf.get_params())"
   ]
  },
  {
   "cell_type": "code",
   "execution_count": 70,
   "metadata": {},
   "outputs": [
    {
     "name": "stdout",
     "output_type": "stream",
     "text": [
      "{'bootstrap': [True, False],\n",
      " 'max_depth': [10, 20, 30, 40, 50, 60, 70, 80, 90, 100, 110, None],\n",
      " 'max_features': ['auto', 'sqrt'],\n",
      " 'min_samples_leaf': [1, 2, 4],\n",
      " 'min_samples_split': [2, 5, 10],\n",
      " 'n_estimators': [200, 400, 600, 800, 1000, 1200, 1400, 1600, 1800, 2000]}\n"
     ]
    }
   ],
   "source": [
    "from sklearn.model_selection import RandomizedSearchCV\n",
    "# Number of trees in random forest\n",
    "n_estimators = [int(x) for x in np.linspace(start = 200, stop = 2000, num = 10)]\n",
    "# Number of features to consider at every split\n",
    "max_features = ['auto', 'sqrt']\n",
    "# Maximum number of levels in tree\n",
    "max_depth = [int(x) for x in np.linspace(10, 110, num = 11)]\n",
    "max_depth.append(None)\n",
    "# Minimum number of samples required to split a node\n",
    "min_samples_split = [2, 5, 10]\n",
    "# Minimum number of samples required at each leaf node\n",
    "min_samples_leaf = [1, 2, 4]\n",
    "# Method of selecting samples for training each tree\n",
    "bootstrap = [True, False]\n",
    "# Create the random grid\n",
    "random_grid = {'n_estimators': n_estimators,\n",
    "               'max_features': max_features,\n",
    "               'max_depth': max_depth,\n",
    "               'min_samples_split': min_samples_split,\n",
    "               'min_samples_leaf': min_samples_leaf,\n",
    "               'bootstrap': bootstrap}\n",
    "pprint(random_grid)"
   ]
  },
  {
   "cell_type": "code",
   "execution_count": 71,
   "metadata": {},
   "outputs": [
    {
     "name": "stdout",
     "output_type": "stream",
     "text": [
      "Fitting 3 folds for each of 100 candidates, totalling 300 fits\n"
     ]
    },
    {
     "name": "stderr",
     "output_type": "stream",
     "text": [
      "[Parallel(n_jobs=-1)]: Done  25 tasks      | elapsed:  5.5min\n",
      "[Parallel(n_jobs=-1)]: Done 146 tasks      | elapsed: 33.6min\n",
      "[Parallel(n_jobs=-1)]: Done 300 out of 300 | elapsed: 70.0min finished\n"
     ]
    },
    {
     "data": {
      "text/plain": [
       "{'n_estimators': 1000,\n",
       " 'min_samples_split': 5,\n",
       " 'min_samples_leaf': 2,\n",
       " 'max_features': 'sqrt',\n",
       " 'max_depth': 10,\n",
       " 'bootstrap': True}"
      ]
     },
     "execution_count": 71,
     "metadata": {},
     "output_type": "execute_result"
    }
   ],
   "source": [
    "# Use the random grid to search for best hyperparameters\n",
    "# First create the base model to tune\n",
    "rf = RandomForestClassifier()\n",
    "# Random search of parameters, using 3 fold cross validation, \n",
    "# search across 100 different combinations, and use all available cores\n",
    "rf_random = RandomizedSearchCV(estimator = rf, param_distributions = random_grid, n_iter = 100, cv = 3, verbose=2, random_state=42, n_jobs = -1)\n",
    "# Fit the random search model\n",
    "rf_random.fit(x_train, y_train_who)\n",
    "rf_random.best_params_"
   ]
  },
  {
   "cell_type": "code",
   "execution_count": 79,
   "metadata": {},
   "outputs": [],
   "source": [
    "def acc_precision_recall_auc_f1(labels, outputs):\n",
    "    accuracy = metrics.accuracy_score(labels, outputs)\n",
    "    precision = metrics.precision_score(labels, outputs, average='weighted')\n",
    "    recall = metrics.recall_score(labels, outputs, average='weighted')\n",
    "    auc = metrics.roc_auc_score(labels, outputs, average='weighted')\n",
    "    f1_score = metrics.f1_score(labels, outputs, average='weighted')\n",
    "    \n",
    "    print('In the test, Accuracy: {:.4f}, Precision: {:.4f}, recall: {:.4f}, AUC: {:.4f}, f1: {:.4f}'.format(accuracy, precision, recall, auc, f1_score))\n",
    "    \n",
    "    return accuracy, precision, recall, auc, f1_score"
   ]
  },
  {
   "cell_type": "code",
   "execution_count": 80,
   "metadata": {},
   "outputs": [],
   "source": [
    "def evaluate(model, test_features, test_labels):\n",
    "    predictions = np.round(model.predict(test_features))\n",
    "    errors = abs(predictions - test_labels)\n",
    "    mape = 100 * np.mean(errors / test_labels)\n",
    "    accuracy = 100 - mape\n",
    "    print('Model Performance')\n",
    "    print('Average Error: {:0.4f} degrees.'.format(np.mean(errors)))\n",
    "    print('Accuracy = {:0.2f}%.'.format(accuracy))\n",
    "    \n",
    "    accuracy, precision, recall, auc, f1_score = acc_precision_recall_auc_f1(test_labels, predictions)\n",
    "    \n",
    "    \n",
    "    \n",
    "    return predictions"
   ]
  },
  {
   "cell_type": "code",
   "execution_count": 81,
   "metadata": {},
   "outputs": [
    {
     "name": "stdout",
     "output_type": "stream",
     "text": [
      "Model Performance\n",
      "Average Error: 0.2245 degrees.\n",
      "Accuracy = nan%.\n",
      "In the test, Accuracy: 0.7755, Precision: 0.6922, recall: 0.7755, AUC: 0.5112, f1: 0.7104\n"
     ]
    },
    {
     "name": "stderr",
     "output_type": "stream",
     "text": [
      "C:\\Users\\woare\\Anaconda3\\lib\\site-packages\\ipykernel_launcher.py:4: RuntimeWarning: divide by zero encountered in true_divide\n",
      "  after removing the cwd from sys.path.\n",
      "C:\\Users\\woare\\Anaconda3\\lib\\site-packages\\ipykernel_launcher.py:4: RuntimeWarning: invalid value encountered in true_divide\n",
      "  after removing the cwd from sys.path.\n"
     ]
    }
   ],
   "source": [
    "base_model = RandomForestClassifier(n_estimators = 100, random_state = 40)\n",
    "base_model.fit(x_train, y_train_who)\n",
    "base_predictions = evaluate(base_model, x_test, y_test_who)"
   ]
  },
  {
   "cell_type": "code",
   "execution_count": 82,
   "metadata": {},
   "outputs": [
    {
     "name": "stdout",
     "output_type": "stream",
     "text": [
      "Model Performance\n",
      "Average Error: 0.2153 degrees.\n",
      "Accuracy = nan%.\n",
      "In the test, Accuracy: 0.7847, Precision: 0.6610, recall: 0.7847, AUC: 0.4987, f1: 0.6992\n"
     ]
    },
    {
     "name": "stderr",
     "output_type": "stream",
     "text": [
      "C:\\Users\\woare\\Anaconda3\\lib\\site-packages\\ipykernel_launcher.py:4: RuntimeWarning: divide by zero encountered in true_divide\n",
      "  after removing the cwd from sys.path.\n",
      "C:\\Users\\woare\\Anaconda3\\lib\\site-packages\\ipykernel_launcher.py:4: RuntimeWarning: invalid value encountered in true_divide\n",
      "  after removing the cwd from sys.path.\n"
     ]
    }
   ],
   "source": [
    "best_random = rf_random.best_estimator_\n",
    "best_predictions = evaluate(best_random, x_test, y_test_who)"
   ]
  },
  {
   "cell_type": "code",
   "execution_count": 84,
   "metadata": {},
   "outputs": [
    {
     "data": {
      "text/plain": [
       "(1364, 15, 360, 3)"
      ]
     },
     "execution_count": 84,
     "metadata": {},
     "output_type": "execute_result"
    }
   ],
   "source": [
    "tn, fp, fn, tp = metrics.confusion_matrix(y_test_who, best_predictions).ravel()\n",
    "(tn, fp, fn, tp)"
   ]
  },
  {
   "cell_type": "code",
   "execution_count": 85,
   "metadata": {},
   "outputs": [],
   "source": [
    "def time_shift_dataset(china, location, timeshift):\n",
    "    \n",
    "    aqi, who, level = get_aqi_who(location)\n",
    "    level = time_shift(level, timeshift)\n",
    "    \n",
    "    print('time shift: {}'.format(timeshift))\n",
    "    # shifting an hour        \n",
    "    level = time_shift(level, 1)\n",
    "\n",
    "    # merge x and y\n",
    "    data_location = china.merge(level, how='outer', left_index=True, right_index=True)\n",
    "    data_location = data_location.dropna()\n",
    "\n",
    "    # make train and test\n",
    "    x_train, y_train_aqi, y_train_who, x_test, y_test_aqi, y_test_who = train_dev_test(data_location)\n",
    "\n",
    "    return x_train, y_train_aqi, y_train_who, x_test, y_test_aqi, y_test_who"
   ]
  },
  {
   "cell_type": "code",
   "execution_count": 86,
   "metadata": {},
   "outputs": [
    {
     "name": "stdout",
     "output_type": "stream",
     "text": [
      "time shift: 6\n"
     ]
    }
   ],
   "source": [
    "x_train, y_train_aqi, y_train_who, x_test, y_test_aqi, y_test_who = time_shift_dataset(china_datasets, backyoungdo, 6)"
   ]
  },
  {
   "cell_type": "code",
   "execution_count": 87,
   "metadata": {},
   "outputs": [
    {
     "name": "stdout",
     "output_type": "stream",
     "text": [
      "Parameters currently in use:\n",
      "\n",
      "{'bootstrap': True,\n",
      " 'class_weight': None,\n",
      " 'criterion': 'gini',\n",
      " 'max_depth': None,\n",
      " 'max_features': 'auto',\n",
      " 'max_leaf_nodes': None,\n",
      " 'min_impurity_decrease': 0.0,\n",
      " 'min_impurity_split': None,\n",
      " 'min_samples_leaf': 1,\n",
      " 'min_samples_split': 2,\n",
      " 'min_weight_fraction_leaf': 0.0,\n",
      " 'n_estimators': 10,\n",
      " 'n_jobs': 1,\n",
      " 'oob_score': False,\n",
      " 'random_state': 42,\n",
      " 'verbose': 0,\n",
      " 'warm_start': False}\n"
     ]
    }
   ],
   "source": [
    "rf = RandomForestClassifier(random_state = 42)\n",
    "from pprint import pprint\n",
    "# Look at parameters used by our current forest\n",
    "print('Parameters currently in use:\\n')\n",
    "pprint(rf.get_params())"
   ]
  },
  {
   "cell_type": "code",
   "execution_count": 88,
   "metadata": {},
   "outputs": [
    {
     "name": "stdout",
     "output_type": "stream",
     "text": [
      "{'bootstrap': [True, False],\n",
      " 'max_depth': [10, 20, 30, 40, 50, 60, 70, 80, 90, 100, 110, None],\n",
      " 'max_features': ['auto', 'sqrt'],\n",
      " 'min_samples_leaf': [1, 2, 4],\n",
      " 'min_samples_split': [2, 5, 10],\n",
      " 'n_estimators': [200, 400, 600, 800, 1000, 1200, 1400, 1600, 1800, 2000]}\n"
     ]
    }
   ],
   "source": [
    "from sklearn.model_selection import RandomizedSearchCV\n",
    "# Number of trees in random forest\n",
    "n_estimators = [int(x) for x in np.linspace(start = 200, stop = 2000, num = 10)]\n",
    "# Number of features to consider at every split\n",
    "max_features = ['auto', 'sqrt']\n",
    "# Maximum number of levels in tree\n",
    "max_depth = [int(x) for x in np.linspace(10, 110, num = 11)]\n",
    "max_depth.append(None)\n",
    "# Minimum number of samples required to split a node\n",
    "min_samples_split = [2, 5, 10]\n",
    "# Minimum number of samples required at each leaf node\n",
    "min_samples_leaf = [1, 2, 4]\n",
    "# Method of selecting samples for training each tree\n",
    "bootstrap = [True, False]\n",
    "# Create the random grid\n",
    "random_grid = {'n_estimators': n_estimators,\n",
    "               'max_features': max_features,\n",
    "               'max_depth': max_depth,\n",
    "               'min_samples_split': min_samples_split,\n",
    "               'min_samples_leaf': min_samples_leaf,\n",
    "               'bootstrap': bootstrap}\n",
    "pprint(random_grid)"
   ]
  },
  {
   "cell_type": "code",
   "execution_count": 89,
   "metadata": {},
   "outputs": [
    {
     "name": "stdout",
     "output_type": "stream",
     "text": [
      "Fitting 3 folds for each of 100 candidates, totalling 300 fits\n"
     ]
    },
    {
     "name": "stderr",
     "output_type": "stream",
     "text": [
      "[Parallel(n_jobs=-1)]: Done  25 tasks      | elapsed:  2.3min\n",
      "[Parallel(n_jobs=-1)]: Done 146 tasks      | elapsed: 13.7min\n",
      "[Parallel(n_jobs=-1)]: Done 300 out of 300 | elapsed: 28.7min finished\n"
     ]
    },
    {
     "data": {
      "text/plain": [
       "{'n_estimators': 600,\n",
       " 'min_samples_split': 2,\n",
       " 'min_samples_leaf': 2,\n",
       " 'max_features': 'sqrt',\n",
       " 'max_depth': 110,\n",
       " 'bootstrap': False}"
      ]
     },
     "execution_count": 89,
     "metadata": {},
     "output_type": "execute_result"
    }
   ],
   "source": [
    "# Use the random grid to search for best hyperparameters\n",
    "# First create the base model to tune\n",
    "rf = RandomForestClassifier()\n",
    "# Random search of parameters, using 3 fold cross validation, \n",
    "# search across 100 different combinations, and use all available cores\n",
    "rf_random = RandomizedSearchCV(estimator = rf, param_distributions = random_grid, n_iter = 100, cv = 3, verbose=2, random_state=42, n_jobs = -1)\n",
    "# Fit the random search model\n",
    "rf_random.fit(x_train, y_train_who)\n",
    "rf_random.best_params_"
   ]
  },
  {
   "cell_type": "code",
   "execution_count": 90,
   "metadata": {},
   "outputs": [
    {
     "name": "stdout",
     "output_type": "stream",
     "text": [
      "Model Performance\n",
      "Average Error: 0.2067 degrees.\n",
      "Accuracy = nan%.\n",
      "In the test, Accuracy: 0.7933, Precision: 0.7601, recall: 0.7933, AUC: 0.5945, f1: 0.7652\n"
     ]
    },
    {
     "name": "stderr",
     "output_type": "stream",
     "text": [
      "C:\\Users\\woare\\Anaconda3\\lib\\site-packages\\ipykernel_launcher.py:4: RuntimeWarning: divide by zero encountered in true_divide\n",
      "  after removing the cwd from sys.path.\n",
      "C:\\Users\\woare\\Anaconda3\\lib\\site-packages\\ipykernel_launcher.py:4: RuntimeWarning: invalid value encountered in true_divide\n",
      "  after removing the cwd from sys.path.\n"
     ]
    }
   ],
   "source": [
    "base_model = RandomForestClassifier(n_estimators = 100, random_state = 40)\n",
    "base_model.fit(x_train, y_train_who)\n",
    "base_predictions = evaluate(base_model, x_test, y_test_who)"
   ]
  },
  {
   "cell_type": "code",
   "execution_count": 91,
   "metadata": {},
   "outputs": [
    {
     "name": "stdout",
     "output_type": "stream",
     "text": [
      "Model Performance\n",
      "Average Error: 0.1969 degrees.\n",
      "Accuracy = nan%.\n",
      "In the test, Accuracy: 0.8031, Precision: 0.7794, recall: 0.8031, AUC: 0.5468, f1: 0.7416\n"
     ]
    },
    {
     "name": "stderr",
     "output_type": "stream",
     "text": [
      "C:\\Users\\woare\\Anaconda3\\lib\\site-packages\\ipykernel_launcher.py:4: RuntimeWarning: divide by zero encountered in true_divide\n",
      "  after removing the cwd from sys.path.\n",
      "C:\\Users\\woare\\Anaconda3\\lib\\site-packages\\ipykernel_launcher.py:4: RuntimeWarning: invalid value encountered in true_divide\n",
      "  after removing the cwd from sys.path.\n"
     ]
    }
   ],
   "source": [
    "best_random = rf_random.best_estimator_\n",
    "best_predictions = evaluate(best_random, x_test, y_test_who)"
   ]
  },
  {
   "cell_type": "code",
   "execution_count": 92,
   "metadata": {},
   "outputs": [
    {
     "data": {
      "text/plain": [
       "(1360, 19, 324, 39)"
      ]
     },
     "execution_count": 92,
     "metadata": {},
     "output_type": "execute_result"
    }
   ],
   "source": [
    "tn, fp, fn, tp = metrics.confusion_matrix(y_test_who, best_predictions).ravel()\n",
    "(tn, fp, fn, tp)"
   ]
  },
  {
   "cell_type": "code",
   "execution_count": null,
   "metadata": {},
   "outputs": [],
   "source": []
  }
 ],
 "metadata": {
  "kernelspec": {
   "display_name": "Python 3",
   "language": "python",
   "name": "python3"
  },
  "language_info": {
   "codemirror_mode": {
    "name": "ipython",
    "version": 3
   },
   "file_extension": ".py",
   "mimetype": "text/x-python",
   "name": "python",
   "nbconvert_exporter": "python",
   "pygments_lexer": "ipython3",
   "version": "3.6.5"
  }
 },
 "nbformat": 4,
 "nbformat_minor": 2
}
